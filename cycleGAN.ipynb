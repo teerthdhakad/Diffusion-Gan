{
  "cells": [
    {
      "cell_type": "markdown",
      "metadata": {
        "id": "s_e83NPcxFrE"
      },
      "source": [
        "## import libraries"
      ]
    },
    {
      "cell_type": "code",
      "source": [
        "!pip3 install tensorflow_addons"
      ],
      "metadata": {
        "colab": {
          "base_uri": "https://localhost:8080/"
        },
        "id": "FucCtYhTxIVW",
        "outputId": "213715da-583d-4155-e3a6-5bf27a617e37"
      },
      "execution_count": 1,
      "outputs": [
        {
          "output_type": "stream",
          "name": "stdout",
          "text": [
            "Collecting tensorflow_addons\n",
            "  Downloading tensorflow_addons-0.23.0-cp310-cp310-manylinux_2_17_x86_64.manylinux2014_x86_64.whl (611 kB)\n",
            "\u001b[2K     \u001b[90m━━━━━━━━━━━━━━━━━━━━━━━━━━━━━━━━━━━━━━━━\u001b[0m \u001b[32m611.8/611.8 kB\u001b[0m \u001b[31m5.9 MB/s\u001b[0m eta \u001b[36m0:00:00\u001b[0m\n",
            "\u001b[?25hRequirement already satisfied: packaging in /usr/local/lib/python3.10/dist-packages (from tensorflow_addons) (24.0)\n",
            "Collecting typeguard<3.0.0,>=2.7 (from tensorflow_addons)\n",
            "  Downloading typeguard-2.13.3-py3-none-any.whl (17 kB)\n",
            "Installing collected packages: typeguard, tensorflow_addons\n",
            "Successfully installed tensorflow_addons-0.23.0 typeguard-2.13.3\n"
          ]
        }
      ]
    },
    {
      "cell_type": "code",
      "execution_count": 2,
      "metadata": {
        "_kg_hide-output": true,
        "execution": {
          "iopub.execute_input": "2023-11-02T08:21:37.012240Z",
          "iopub.status.busy": "2023-11-02T08:21:37.011943Z",
          "iopub.status.idle": "2023-11-02T08:21:45.378130Z",
          "shell.execute_reply": "2023-11-02T08:21:45.376875Z",
          "shell.execute_reply.started": "2023-11-02T08:21:37.012206Z"
        },
        "colab": {
          "base_uri": "https://localhost:8080/"
        },
        "id": "0C-euCRCxFrJ",
        "outputId": "9fd91e4f-8801-4001-9e07-2e08e202a3db"
      },
      "outputs": [
        {
          "output_type": "stream",
          "name": "stderr",
          "text": [
            "/usr/local/lib/python3.10/dist-packages/tensorflow_addons/utils/tfa_eol_msg.py:23: UserWarning: \n",
            "\n",
            "TensorFlow Addons (TFA) has ended development and introduction of new features.\n",
            "TFA has entered a minimal maintenance and release mode until a planned end of life in May 2024.\n",
            "Please modify downstream libraries to take dependencies from other repositories in our TensorFlow community (e.g. Keras, Keras-CV, and Keras-NLP). \n",
            "\n",
            "For more information see: https://github.com/tensorflow/addons/issues/2807 \n",
            "\n",
            "  warnings.warn(\n"
          ]
        }
      ],
      "source": [
        "from os import listdir\n",
        "import numpy as np\n",
        "from numpy import savez_compressed\n",
        "import os\n",
        "from os import listdir\n",
        "import cv2\n",
        "from numpy import asarray, vstack, savez_compressed\n",
        "from numpy.random import randint\n",
        "from glob import glob\n",
        "from random import random\n",
        "from tqdm import tqdm\n",
        "import pandas as pd\n",
        "import tensorflow as tf\n",
        "import tensorflow.image as tfi\n",
        "from tensorflow import keras\n",
        "import matplotlib.pyplot as plt\n",
        "from tensorflow.keras.preprocessing.image import load_img, img_to_array\n",
        "from tensorflow.keras import layers\n",
        "from keras.layers import ReLU, Input,Conv2D,Dropout,LeakyReLU, Activation, Concatenate, Conv2DTranspose\n",
        "from keras.models import load_model,Model ,Sequential\n",
        "from tensorflow_addons.layers import InstanceNormalization\n",
        "from keras.initializers import RandomNormal\n",
        "from keras.losses import BinaryCrossentropy\n",
        "from tensorflow.keras.optimizers import Adam"
      ]
    },
    {
      "cell_type": "code",
      "source": [
        "from google.colab import drive\n",
        "drive.mount('/content/drive')"
      ],
      "metadata": {
        "colab": {
          "base_uri": "https://localhost:8080/"
        },
        "id": "B7AIPyY4zVLf",
        "outputId": "ec5f37c6-d653-4024-8e76-8a73d79f9183"
      },
      "execution_count": 3,
      "outputs": [
        {
          "output_type": "stream",
          "name": "stdout",
          "text": [
            "Mounted at /content/drive\n"
          ]
        }
      ]
    },
    {
      "cell_type": "markdown",
      "metadata": {
        "id": "ge0xVR5XxFrL"
      },
      "source": [
        "## Load images"
      ]
    },
    {
      "cell_type": "code",
      "execution_count": 5,
      "metadata": {
        "execution": {
          "iopub.execute_input": "2023-11-02T08:21:45.387806Z",
          "iopub.status.busy": "2023-11-02T08:21:45.387451Z",
          "iopub.status.idle": "2023-11-02T08:22:07.184306Z",
          "shell.execute_reply": "2023-11-02T08:22:07.183321Z",
          "shell.execute_reply.started": "2023-11-02T08:21:45.387773Z"
        },
        "colab": {
          "base_uri": "https://localhost:8080/"
        },
        "id": "2tHo9UXTxFrM",
        "outputId": "332752cb-d7bd-4217-8241-3f46cfccdc20"
      },
      "outputs": [
        {
          "output_type": "stream",
          "name": "stdout",
          "text": [
            "loaded dataA (123, 64, 64, 3)\n",
            "loaded dataB (965, 64, 64, 3)\n",
            "Saved dataset: celeb.npz\n"
          ]
        }
      ],
      "source": [
        "#Resizing all the images to 64*64 pixels and storing in compressed Numpy array.\n",
        "def load_images_A(path,file, size=(64, 64), max_images=None):\n",
        "    data_list = []\n",
        "    for i in range(2603):\n",
        "            if (file.at[i, 'Eyeglasses'] == 1 and file.at[i, 'Male'] == 1):\n",
        "                pixels = load_img(path +file.at[i,'image_id'], target_size=size)\n",
        "                pixels = img_to_array(pixels)\n",
        "                data_list.append(pixels)\n",
        "            if max_images and len(data_list) >= max_images:\n",
        "                break\n",
        "    return np.asarray(data_list)\n",
        "def load_images_B(path,file, size=(64, 64), max_images=None):\n",
        "    data_list = []\n",
        "    for i in range(2603):\n",
        "            if (file.at[i, 'Eyeglasses'] == -1 and file.at[i, 'Male'] == 1):\n",
        "                pixels = load_img(path + file.at[i,'image_id'], target_size=size)\n",
        "                pixels = img_to_array(pixels)\n",
        "                data_list.append(pixels)\n",
        "            if max_images and len(data_list) >= max_images:\n",
        "                break\n",
        "    return np.asarray(data_list)\n",
        "celeb_path = '/content/drive/MyDrive/img1/'\n",
        "ab=pd.read_csv('/content/list_attr_celeba.csv')\n",
        "\n",
        "dataA = load_images_A(celeb_path,ab, max_images=1000)\n",
        "print('loaded dataA', dataA.shape)\n",
        "\n",
        "dataB = load_images_B(celeb_path,ab,  max_images=1000)\n",
        "print('loaded dataB', dataB.shape)\n",
        "\n",
        "filename = 'celeb.npz'\n",
        "np.savez_compressed(filename, dataA=dataA, dataB=dataB)\n",
        "\n",
        "print('Saved dataset:', filename)\n"
      ]
    },
    {
      "cell_type": "code",
      "source": [
        "#Resizing all the images to 64*64 pixels and storing in compressed Numpy array.\n",
        "def load_images_A(path,file, size=(64, 64), max_images=None):\n",
        "    data_list = []\n",
        "    for i in range(2603):\n",
        "            if (file.at[i, 'Eyeglasses'] == 1 and file.at[i, 'Male'] == 1):\n",
        "                pixels = load_img(path +file.at[i,'image_id'], target_size=size)\n",
        "                pixels = img_to_array(pixels)\n",
        "                data_list.append(pixels)\n",
        "            if max_images and len(data_list) >= max_images:\n",
        "                break\n",
        "    return np.asarray(data_list)\n",
        "def load_images_B(path,file, size=(64, 64), max_images=None):\n",
        "    data_list = []\n",
        "    for i in range(2603):\n",
        "            if (file.at[i, 'Eyeglasses'] == -1 and file.at[i, 'Male'] == -1):\n",
        "                pixels = load_img(path + file.at[i,'image_id'], target_size=size)\n",
        "                pixels = img_to_array(pixels)\n",
        "                data_list.append(pixels)\n",
        "            if max_images and len(data_list) >= max_images:\n",
        "                break\n",
        "    return np.asarray(data_list)\n",
        "celeb_path = '/content/drive/MyDrive/img1/'\n",
        "ab=pd.read_csv('/content/list_attr_celeba.csv')\n",
        "\n",
        "dataA = load_images_A(celeb_path,ab, max_images=1000)\n",
        "print('loaded dataA', dataA.shape)\n",
        "\n",
        "dataB = load_images_B(celeb_path,ab,  max_images=1000)\n",
        "print('loaded dataB', dataB.shape)\n",
        "\n",
        "filename = 'celeb.npz'\n",
        "np.savez_compressed(filename, dataA=dataA, dataB=dataB)\n",
        "\n",
        "print('Saved dataset:', filename)\n"
      ],
      "metadata": {
        "id": "a3wZbHbD9YqY"
      },
      "execution_count": null,
      "outputs": []
    },
    {
      "cell_type": "markdown",
      "metadata": {
        "id": "2mouojJbxFrO"
      },
      "source": [
        "## Plotting images of Celebrity and Cartoon"
      ]
    },
    {
      "cell_type": "code",
      "execution_count": 6,
      "metadata": {
        "execution": {
          "iopub.execute_input": "2023-11-02T08:22:07.188566Z",
          "iopub.status.busy": "2023-11-02T08:22:07.188285Z",
          "iopub.status.idle": "2023-11-02T08:22:07.851577Z",
          "shell.execute_reply": "2023-11-02T08:22:07.850492Z",
          "shell.execute_reply.started": "2023-11-02T08:22:07.188542Z"
        },
        "colab": {
          "base_uri": "https://localhost:8080/",
          "height": 364
        },
        "id": "6pzYG8f9xFrP",
        "outputId": "a4bbf87e-4aa7-4794-be70-5bcfe635e5e3"
      },
      "outputs": [
        {
          "output_type": "stream",
          "name": "stdout",
          "text": [
            "Loaded data: (123, 64, 64, 3) (965, 64, 64, 3)\n"
          ]
        },
        {
          "output_type": "display_data",
          "data": {
            "text/plain": [
              "<Figure size 640x480 with 8 Axes>"
            ],
            "image/png": "[encoded data removed]"
          },
          "metadata": {}
        }
      ],
      "source": [
        "from numpy import load\n",
        "data = load('/content/celeb.npz')\n",
        "daraA, dataB = data['dataA'], data['dataB']\n",
        "print('Loaded data:', dataA.shape, dataB.shape)\n",
        "n_samples = 4\n",
        "# plot original image\n",
        "for i in range (n_samples):\n",
        "    plt.subplot(2 , n_samples,1+i )\n",
        "    plt.axis('off')\n",
        "    plt.imshow(dataA[i].astype('uint8'))\n",
        "# plot target image\n",
        "for i in range (n_samples):\n",
        "    plt.subplot(2 , n_samples,1+n_samples+i )\n",
        "    plt.axis('off')\n",
        "    plt.imshow(dataB[i].astype('uint8'))\n",
        "plt.show()\n"
      ]
    },
    {
      "cell_type": "code",
      "execution_count": 7,
      "metadata": {
        "execution": {
          "iopub.execute_input": "2023-11-02T08:22:07.853881Z",
          "iopub.status.busy": "2023-11-02T08:22:07.853182Z",
          "iopub.status.idle": "2023-11-02T08:22:11.716358Z",
          "shell.execute_reply": "2023-11-02T08:22:11.715482Z",
          "shell.execute_reply.started": "2023-11-02T08:22:07.853841Z"
        },
        "colab": {
          "base_uri": "https://localhost:8080/"
        },
        "id": "b7U5UdX5xFrP",
        "outputId": "b1a9347a-428d-4dda-82cb-3011e77cac00"
      },
      "outputs": [
        {
          "output_type": "stream",
          "name": "stderr",
          "text": [
            "/usr/local/lib/python3.10/dist-packages/keras/src/initializers/initializers.py:120: UserWarning: The initializer RandomNormal is unseeded and being called multiple times, which will return identical values each time (even if the initializer is unseeded). Please update your code to provide a seed to the initializer, or avoid using the same initializer instance more than once.\n",
            "  warnings.warn(\n"
          ]
        },
        {
          "output_type": "stream",
          "name": "stdout",
          "text": [
            "Model: \"model\"\n",
            "_________________________________________________________________\n",
            " Layer (type)                Output Shape              Param #   \n",
            "=================================================================\n",
            " input_1 (InputLayer)        [(None, 64, 64, 3)]       0         \n",
            "                                                                 \n",
            " conv2d (Conv2D)             (None, 32, 32, 64)        3136      \n",
            "                                                                 \n",
            " leaky_re_lu (LeakyReLU)     (None, 32, 32, 64)        0         \n",
            "                                                                 \n",
            " conv2d_1 (Conv2D)           (None, 16, 16, 128)       131200    \n",
            "                                                                 \n",
            " instance_normalization (In  (None, 16, 16, 128)       256       \n",
            " stanceNormalization)                                            \n",
            "                                                                 \n",
            " leaky_re_lu_1 (LeakyReLU)   (None, 16, 16, 128)       0         \n",
            "                                                                 \n",
            " conv2d_2 (Conv2D)           (None, 8, 8, 256)         524544    \n",
            "                                                                 \n",
            " instance_normalization_1 (  (None, 8, 8, 256)         512       \n",
            " InstanceNormalization)                                          \n",
            "                                                                 \n",
            " leaky_re_lu_2 (LeakyReLU)   (None, 8, 8, 256)         0         \n",
            "                                                                 \n",
            " conv2d_3 (Conv2D)           (None, 4, 4, 512)         2097664   \n",
            "                                                                 \n",
            " instance_normalization_2 (  (None, 4, 4, 512)         1024      \n",
            " InstanceNormalization)                                          \n",
            "                                                                 \n",
            " leaky_re_lu_3 (LeakyReLU)   (None, 4, 4, 512)         0         \n",
            "                                                                 \n",
            " conv2d_4 (Conv2D)           (None, 4, 4, 512)         4194816   \n",
            "                                                                 \n",
            " instance_normalization_3 (  (None, 4, 4, 512)         1024      \n",
            " InstanceNormalization)                                          \n",
            "                                                                 \n",
            " leaky_re_lu_4 (LeakyReLU)   (None, 4, 4, 512)         0         \n",
            "                                                                 \n",
            " conv2d_5 (Conv2D)           (None, 4, 4, 1)           8192      \n",
            "                                                                 \n",
            "=================================================================\n",
            "Total params: 6962368 (26.56 MB)\n",
            "Trainable params: 6962368 (26.56 MB)\n",
            "Non-trainable params: 0 (0.00 Byte)\n",
            "_________________________________________________________________\n"
          ]
        }
      ],
      "source": [
        "#define the discriminator model\n",
        "def define_discriminator(image_shape):\n",
        "    #weight initialization\n",
        "    init = RandomNormal(stddev = 0.02)\n",
        "    #source image input\n",
        "    input_image = Input(shape = image_shape)\n",
        "    #c64\n",
        "    x = Conv2D(64,(4,4), strides = 2 , padding = 'same', kernel_initializer = init)(input_image)\n",
        "    x = LeakyReLU(alpha = 0.2)(x)\n",
        "    #c128\n",
        "    x = Conv2D(128,(4,4), strides = 2 , padding = 'same', kernel_initializer = init)(x)\n",
        "    x = InstanceNormalization(axis = -1)(x)\n",
        "    x = LeakyReLU(alpha = 0.2)(x)\n",
        "    #c256\n",
        "    x = Conv2D(256,(4,4), strides = 2 , padding = 'same', kernel_initializer = init)(x)\n",
        "    x = InstanceNormalization(axis = -1)(x)\n",
        "    x = LeakyReLU(alpha = 0.2)(x)\n",
        "    #c512\n",
        "    x = Conv2D(512,(4,4), strides = 2 , padding = 'same', kernel_initializer = init)(x)\n",
        "    x = InstanceNormalization(axis = -1)(x)\n",
        "    x = LeakyReLU(alpha = 0.2)(x)\n",
        "\n",
        "    x = Conv2D(512,(4,4) , padding = 'same', kernel_initializer = init)(x)\n",
        "    x = InstanceNormalization(axis = -1)(x)\n",
        "    x = LeakyReLU(alpha = 0.2)(x)\n",
        "\n",
        "    out_put = Conv2D(1, (4, 4), padding='same', kernel_initializer=init, use_bias=False)(x)\n",
        "\n",
        "    model = Model(input_image, out_put)\n",
        "    model.compile(loss='mse', optimizer=Adam(learning_rate=0.0002, beta_1=0.5), loss_weights=[0.5])\n",
        "\n",
        "    return model\n",
        "\n",
        "image_shape = (64, 64, 3)\n",
        "discriminator = define_discriminator(image_shape)\n",
        "discriminator.summary()"
      ]
    },
    {
      "cell_type": "markdown",
      "metadata": {
        "id": "H8iGx964xFrQ"
      },
      "source": [
        "## Defining generator model\n",
        "\n",
        "The generator is an encoder- decoder model, where model takes source image (e.g. celebrity photo) and generates a target image (e.g. cartoon photo) by first downsampling or encoding the input image down to a bottleneck layer, then interpreting the encoding with a number of ResNet layers that use skip connections by series of layers that upsample or decode the representation to the size of output image.\n",
        "\n",
        "So Defining the ResNet block having two 3 X 3 filters and 1 X 1 stride where input to block is concatenated to output of block channel wise."
      ]
    },
    {
      "cell_type": "code",
      "execution_count": 8,
      "metadata": {
        "execution": {
          "iopub.execute_input": "2023-11-02T08:22:11.717758Z",
          "iopub.status.busy": "2023-11-02T08:22:11.717488Z",
          "iopub.status.idle": "2023-11-02T08:22:11.723928Z",
          "shell.execute_reply": "2023-11-02T08:22:11.723067Z",
          "shell.execute_reply.started": "2023-11-02T08:22:11.717734Z"
        },
        "id": "KrPLEtqhxFrQ"
      },
      "outputs": [],
      "source": [
        "def resnet_block(filters, layer):\n",
        "    # weight initialization\n",
        "    init = RandomNormal(stddev=0.02)\n",
        "\n",
        "    #print(layer.shape)  # print the shape of the previous layer\n",
        "\n",
        "    x = Conv2D(filters, (3,3), padding='same', kernel_initializer=init)(layer)\n",
        "    x = InstanceNormalization(axis=-1)(x)\n",
        "    x = Activation('relu')(x)\n",
        "    x = Conv2D(filters, (3,3), padding='same', kernel_initializer=init)(x)\n",
        "    x = InstanceNormalization(axis=-1)(x)\n",
        "\n",
        "    # skip connection\n",
        "    x = Concatenate()([x, layer])\n",
        "    return x\n",
        ""
      ]
    },
    {
      "cell_type": "code",
      "execution_count": 9,
      "metadata": {
        "execution": {
          "iopub.execute_input": "2023-11-02T08:22:11.725254Z",
          "iopub.status.busy": "2023-11-02T08:22:11.724997Z",
          "iopub.status.idle": "2023-11-02T08:22:11.742076Z",
          "shell.execute_reply": "2023-11-02T08:22:11.741176Z",
          "shell.execute_reply.started": "2023-11-02T08:22:11.725231Z"
        },
        "id": "N0M2QVAkxFrQ"
      },
      "outputs": [],
      "source": [
        "def downsample(filters, layer, size=3, strides=2, activation=None, index=None, norm=True):\n",
        "    x = Conv2D(filters, kernel_size=size, strides=strides, padding ='same', kernel_initializer='he_normal', use_bias=False)(layer)\n",
        "    x = InstanceNormalization(axis=-1)(x)\n",
        "    x = LeakyReLU()(x)\n",
        "    return x"
      ]
    },
    {
      "cell_type": "code",
      "execution_count": 10,
      "metadata": {
        "execution": {
          "iopub.execute_input": "2023-11-02T08:22:11.743358Z",
          "iopub.status.busy": "2023-11-02T08:22:11.743090Z",
          "iopub.status.idle": "2023-11-02T08:22:12.842751Z",
          "shell.execute_reply": "2023-11-02T08:22:12.841832Z",
          "shell.execute_reply.started": "2023-11-02T08:22:11.743336Z"
        },
        "colab": {
          "base_uri": "https://localhost:8080/"
        },
        "id": "s-JoPcdmxFrR",
        "outputId": "6a080732-06db-4440-c8b3-f68b3ea1884c"
      },
      "outputs": [
        {
          "output_type": "stream",
          "name": "stdout",
          "text": [
            "Model: \"model_1\"\n",
            "__________________________________________________________________________________________________\n",
            " Layer (type)                Output Shape                 Param #   Connected to                  \n",
            "==================================================================================================\n",
            " input_2 (InputLayer)        [(None, 64, 64, 3)]          0         []                            \n",
            "                                                                                                  \n",
            " conv2d_6 (Conv2D)           (None, 64, 64, 64)           9472      ['input_2[0][0]']             \n",
            "                                                                                                  \n",
            " instance_normalization_4 (  (None, 64, 64, 64)           128       ['conv2d_6[0][0]']            \n",
            " InstanceNormalization)                                                                           \n",
            "                                                                                                  \n",
            " activation (Activation)     (None, 64, 64, 64)           0         ['instance_normalization_4[0][\n",
            "                                                                    0]']                          \n",
            "                                                                                                  \n",
            " conv2d_7 (Conv2D)           (None, 32, 32, 128)          73856     ['activation[0][0]']          \n",
            "                                                                                                  \n",
            " instance_normalization_5 (  (None, 32, 32, 128)          256       ['conv2d_7[0][0]']            \n",
            " InstanceNormalization)                                                                           \n",
            "                                                                                                  \n",
            " activation_1 (Activation)   (None, 32, 32, 128)          0         ['instance_normalization_5[0][\n",
            "                                                                    0]']                          \n",
            "                                                                                                  \n",
            " conv2d_8 (Conv2D)           (None, 16, 16, 256)          295168    ['activation_1[0][0]']        \n",
            "                                                                                                  \n",
            " instance_normalization_6 (  (None, 16, 16, 256)          512       ['conv2d_8[0][0]']            \n",
            " InstanceNormalization)                                                                           \n",
            "                                                                                                  \n",
            " activation_2 (Activation)   (None, 16, 16, 256)          0         ['instance_normalization_6[0][\n",
            "                                                                    0]']                          \n",
            "                                                                                                  \n",
            " conv2d_9 (Conv2D)           (None, 16, 16, 256)          590080    ['activation_2[0][0]']        \n",
            "                                                                                                  \n",
            " instance_normalization_7 (  (None, 16, 16, 256)          512       ['conv2d_9[0][0]']            \n",
            " InstanceNormalization)                                                                           \n",
            "                                                                                                  \n",
            " activation_3 (Activation)   (None, 16, 16, 256)          0         ['instance_normalization_7[0][\n",
            "                                                                    0]']                          \n",
            "                                                                                                  \n",
            " conv2d_10 (Conv2D)          (None, 16, 16, 256)          590080    ['activation_3[0][0]']        \n",
            "                                                                                                  \n",
            " instance_normalization_8 (  (None, 16, 16, 256)          512       ['conv2d_10[0][0]']           \n",
            " InstanceNormalization)                                                                           \n",
            "                                                                                                  \n",
            " concatenate (Concatenate)   (None, 16, 16, 512)          0         ['instance_normalization_8[0][\n",
            "                                                                    0]',                          \n",
            "                                                                     'activation_2[0][0]']        \n",
            "                                                                                                  \n",
            " conv2d_11 (Conv2D)          (None, 16, 16, 256)          1179904   ['concatenate[0][0]']         \n",
            "                                                                                                  \n",
            " instance_normalization_9 (  (None, 16, 16, 256)          512       ['conv2d_11[0][0]']           \n",
            " InstanceNormalization)                                                                           \n",
            "                                                                                                  \n",
            " activation_4 (Activation)   (None, 16, 16, 256)          0         ['instance_normalization_9[0][\n",
            "                                                                    0]']                          \n",
            "                                                                                                  \n",
            " conv2d_12 (Conv2D)          (None, 16, 16, 256)          590080    ['activation_4[0][0]']        \n",
            "                                                                                                  \n",
            " instance_normalization_10   (None, 16, 16, 256)          512       ['conv2d_12[0][0]']           \n",
            " (InstanceNormalization)                                                                          \n",
            "                                                                                                  \n",
            " concatenate_1 (Concatenate  (None, 16, 16, 768)          0         ['instance_normalization_10[0]\n",
            " )                                                                  [0]',                         \n",
            "                                                                     'concatenate[0][0]']         \n",
            "                                                                                                  \n",
            " conv2d_13 (Conv2D)          (None, 16, 16, 256)          1769728   ['concatenate_1[0][0]']       \n",
            "                                                                                                  \n",
            " instance_normalization_11   (None, 16, 16, 256)          512       ['conv2d_13[0][0]']           \n",
            " (InstanceNormalization)                                                                          \n",
            "                                                                                                  \n",
            " activation_5 (Activation)   (None, 16, 16, 256)          0         ['instance_normalization_11[0]\n",
            "                                                                    [0]']                         \n",
            "                                                                                                  \n",
            " conv2d_14 (Conv2D)          (None, 16, 16, 256)          590080    ['activation_5[0][0]']        \n",
            "                                                                                                  \n",
            " instance_normalization_12   (None, 16, 16, 256)          512       ['conv2d_14[0][0]']           \n",
            " (InstanceNormalization)                                                                          \n",
            "                                                                                                  \n",
            " concatenate_2 (Concatenate  (None, 16, 16, 1024)         0         ['instance_normalization_12[0]\n",
            " )                                                                  [0]',                         \n",
            "                                                                     'concatenate_1[0][0]']       \n",
            "                                                                                                  \n",
            " conv2d_15 (Conv2D)          (None, 16, 16, 256)          2359552   ['concatenate_2[0][0]']       \n",
            "                                                                                                  \n",
            " instance_normalization_13   (None, 16, 16, 256)          512       ['conv2d_15[0][0]']           \n",
            " (InstanceNormalization)                                                                          \n",
            "                                                                                                  \n",
            " activation_6 (Activation)   (None, 16, 16, 256)          0         ['instance_normalization_13[0]\n",
            "                                                                    [0]']                         \n",
            "                                                                                                  \n",
            " conv2d_16 (Conv2D)          (None, 16, 16, 256)          590080    ['activation_6[0][0]']        \n",
            "                                                                                                  \n",
            " instance_normalization_14   (None, 16, 16, 256)          512       ['conv2d_16[0][0]']           \n",
            " (InstanceNormalization)                                                                          \n",
            "                                                                                                  \n",
            " concatenate_3 (Concatenate  (None, 16, 16, 1280)         0         ['instance_normalization_14[0]\n",
            " )                                                                  [0]',                         \n",
            "                                                                     'concatenate_2[0][0]']       \n",
            "                                                                                                  \n",
            " conv2d_17 (Conv2D)          (None, 16, 16, 256)          2949376   ['concatenate_3[0][0]']       \n",
            "                                                                                                  \n",
            " instance_normalization_15   (None, 16, 16, 256)          512       ['conv2d_17[0][0]']           \n",
            " (InstanceNormalization)                                                                          \n",
            "                                                                                                  \n",
            " activation_7 (Activation)   (None, 16, 16, 256)          0         ['instance_normalization_15[0]\n",
            "                                                                    [0]']                         \n",
            "                                                                                                  \n",
            " conv2d_18 (Conv2D)          (None, 16, 16, 256)          590080    ['activation_7[0][0]']        \n",
            "                                                                                                  \n",
            " instance_normalization_16   (None, 16, 16, 256)          512       ['conv2d_18[0][0]']           \n",
            " (InstanceNormalization)                                                                          \n",
            "                                                                                                  \n",
            " concatenate_4 (Concatenate  (None, 16, 16, 1536)         0         ['instance_normalization_16[0]\n",
            " )                                                                  [0]',                         \n",
            "                                                                     'concatenate_3[0][0]']       \n",
            "                                                                                                  \n",
            " conv2d_19 (Conv2D)          (None, 16, 16, 256)          3539200   ['concatenate_4[0][0]']       \n",
            "                                                                                                  \n",
            " instance_normalization_17   (None, 16, 16, 256)          512       ['conv2d_19[0][0]']           \n",
            " (InstanceNormalization)                                                                          \n",
            "                                                                                                  \n",
            " activation_8 (Activation)   (None, 16, 16, 256)          0         ['instance_normalization_17[0]\n",
            "                                                                    [0]']                         \n",
            "                                                                                                  \n",
            " conv2d_20 (Conv2D)          (None, 16, 16, 256)          590080    ['activation_8[0][0]']        \n",
            "                                                                                                  \n",
            " instance_normalization_18   (None, 16, 16, 256)          512       ['conv2d_20[0][0]']           \n",
            " (InstanceNormalization)                                                                          \n",
            "                                                                                                  \n",
            " concatenate_5 (Concatenate  (None, 16, 16, 1792)         0         ['instance_normalization_18[0]\n",
            " )                                                                  [0]',                         \n",
            "                                                                     'concatenate_4[0][0]']       \n",
            "                                                                                                  \n",
            " conv2d_21 (Conv2D)          (None, 16, 16, 256)          4129024   ['concatenate_5[0][0]']       \n",
            "                                                                                                  \n",
            " instance_normalization_19   (None, 16, 16, 256)          512       ['conv2d_21[0][0]']           \n",
            " (InstanceNormalization)                                                                          \n",
            "                                                                                                  \n",
            " activation_9 (Activation)   (None, 16, 16, 256)          0         ['instance_normalization_19[0]\n",
            "                                                                    [0]']                         \n",
            "                                                                                                  \n",
            " conv2d_22 (Conv2D)          (None, 16, 16, 256)          590080    ['activation_9[0][0]']        \n",
            "                                                                                                  \n",
            " instance_normalization_20   (None, 16, 16, 256)          512       ['conv2d_22[0][0]']           \n",
            " (InstanceNormalization)                                                                          \n",
            "                                                                                                  \n",
            " concatenate_6 (Concatenate  (None, 16, 16, 2048)         0         ['instance_normalization_20[0]\n",
            " )                                                                  [0]',                         \n",
            "                                                                     'concatenate_5[0][0]']       \n",
            "                                                                                                  \n",
            " conv2d_23 (Conv2D)          (None, 16, 16, 256)          4718848   ['concatenate_6[0][0]']       \n",
            "                                                                                                  \n",
            " instance_normalization_21   (None, 16, 16, 256)          512       ['conv2d_23[0][0]']           \n",
            " (InstanceNormalization)                                                                          \n",
            "                                                                                                  \n",
            " activation_10 (Activation)  (None, 16, 16, 256)          0         ['instance_normalization_21[0]\n",
            "                                                                    [0]']                         \n",
            "                                                                                                  \n",
            " conv2d_24 (Conv2D)          (None, 16, 16, 256)          590080    ['activation_10[0][0]']       \n",
            "                                                                                                  \n",
            " instance_normalization_22   (None, 16, 16, 256)          512       ['conv2d_24[0][0]']           \n",
            " (InstanceNormalization)                                                                          \n",
            "                                                                                                  \n",
            " concatenate_7 (Concatenate  (None, 16, 16, 2304)         0         ['instance_normalization_22[0]\n",
            " )                                                                  [0]',                         \n",
            "                                                                     'concatenate_6[0][0]']       \n",
            "                                                                                                  \n",
            " conv2d_25 (Conv2D)          (None, 16, 16, 256)          5308672   ['concatenate_7[0][0]']       \n",
            "                                                                                                  \n",
            " instance_normalization_23   (None, 16, 16, 256)          512       ['conv2d_25[0][0]']           \n",
            " (InstanceNormalization)                                                                          \n",
            "                                                                                                  \n",
            " activation_11 (Activation)  (None, 16, 16, 256)          0         ['instance_normalization_23[0]\n",
            "                                                                    [0]']                         \n",
            "                                                                                                  \n",
            " conv2d_26 (Conv2D)          (None, 16, 16, 256)          590080    ['activation_11[0][0]']       \n",
            "                                                                                                  \n",
            " instance_normalization_24   (None, 16, 16, 256)          512       ['conv2d_26[0][0]']           \n",
            " (InstanceNormalization)                                                                          \n",
            "                                                                                                  \n",
            " concatenate_8 (Concatenate  (None, 16, 16, 2560)         0         ['instance_normalization_24[0]\n",
            " )                                                                  [0]',                         \n",
            "                                                                     'concatenate_7[0][0]']       \n",
            "                                                                                                  \n",
            " conv2d_transpose (Conv2DTr  (None, 32, 32, 128)          2949248   ['concatenate_8[0][0]']       \n",
            " anspose)                                                                                         \n",
            "                                                                                                  \n",
            " instance_normalization_25   (None, 32, 32, 128)          256       ['conv2d_transpose[0][0]']    \n",
            " (InstanceNormalization)                                                                          \n",
            "                                                                                                  \n",
            " activation_12 (Activation)  (None, 32, 32, 128)          0         ['instance_normalization_25[0]\n",
            "                                                                    [0]']                         \n",
            "                                                                                                  \n",
            " conv2d_transpose_1 (Conv2D  (None, 64, 64, 64)           73792     ['activation_12[0][0]']       \n",
            " Transpose)                                                                                       \n",
            "                                                                                                  \n",
            " instance_normalization_26   (None, 64, 64, 64)           128       ['conv2d_transpose_1[0][0]']  \n",
            " (InstanceNormalization)                                                                          \n",
            "                                                                                                  \n",
            " activation_13 (Activation)  (None, 64, 64, 64)           0         ['instance_normalization_26[0]\n",
            "                                                                    [0]']                         \n",
            "                                                                                                  \n",
            " conv2d_27 (Conv2D)          (None, 64, 64, 3)            9411      ['activation_13[0][0]']       \n",
            "                                                                                                  \n",
            " instance_normalization_27   (None, 64, 64, 3)            6         ['conv2d_27[0][0]']           \n",
            " (InstanceNormalization)                                                                          \n",
            "                                                                                                  \n",
            " activation_14 (Activation)  (None, 64, 64, 3)            0         ['instance_normalization_27[0]\n",
            "                                                                    [0]']                         \n",
            "                                                                                                  \n",
            "==================================================================================================\n",
            "Total params: 35276553 (134.57 MB)\n",
            "Trainable params: 35276553 (134.57 MB)\n",
            "Non-trainable params: 0 (0.00 Byte)\n",
            "__________________________________________________________________________________________________\n"
          ]
        }
      ],
      "source": [
        "# define the generator model\n",
        "def define_generator(image_shape, n_resnet=9):\n",
        "    #weight initialization\n",
        "    init = RandomNormal(stddev = 0.02)\n",
        "    #source image input\n",
        "    input_image = Input(shape = image_shape)\n",
        "    #c64\n",
        "    x = Conv2D(64,(7,7) , padding = 'same', kernel_initializer = init)(input_image)\n",
        "    x = InstanceNormalization(axis = -1)(x)\n",
        "    x = Activation('relu')(x)\n",
        "    #c128\n",
        "    x = Conv2D(128,(3,3), strides = 2 , padding = 'same', kernel_initializer = init)(x)\n",
        "    x = InstanceNormalization(axis = -1)(x)\n",
        "    x = Activation('relu')(x)\n",
        "    #c256\n",
        "    x = Conv2D(256,(3,3), strides = 2 , padding = 'same', kernel_initializer = init)(x)\n",
        "    x = InstanceNormalization(axis = -1)(x)\n",
        "    x = Activation('relu')(x)\n",
        "\n",
        "    for i in range(n_resnet):\n",
        "        x = resnet_block(256 , x)\n",
        "\n",
        "    # Add Conv2DTranspose layers to upscale the image to the desired shape\n",
        "    x = Conv2DTranspose(128, (3, 3), strides=2, padding='same', kernel_initializer=init)(x)\n",
        "    x = InstanceNormalization(axis=-1)(x)\n",
        "    x = Activation('relu')(x)\n",
        "\n",
        "    x = Conv2DTranspose(64, (3, 3), strides=2, padding='same', kernel_initializer=init)(x)\n",
        "    x = InstanceNormalization(axis=-1)(x)\n",
        "    x = Activation('relu')(x)\n",
        "\n",
        "    x = Conv2D(3, (7, 7), padding='same', kernel_initializer=init)(x)\n",
        "    x = InstanceNormalization(axis=-1)(x)\n",
        "    out_image = Activation('tanh')(x)\n",
        "\n",
        "    model = Model(input_image, out_image)\n",
        "    return model\n",
        "image_shape = (64, 64, 3)\n",
        "generator = define_generator(image_shape)\n",
        "generator.summary()"
      ]
    },
    {
      "cell_type": "markdown",
      "metadata": {
        "id": "cKffPr2WxFrS"
      },
      "source": [
        "## Defining Composite model"
      ]
    },
    {
      "cell_type": "code",
      "execution_count": 11,
      "metadata": {
        "execution": {
          "iopub.execute_input": "2023-11-02T08:22:12.844706Z",
          "iopub.status.busy": "2023-11-02T08:22:12.844297Z",
          "iopub.status.idle": "2023-11-02T08:22:12.855564Z",
          "shell.execute_reply": "2023-11-02T08:22:12.854678Z",
          "shell.execute_reply.started": "2023-11-02T08:22:12.844669Z"
        },
        "id": "H8dSVMJyxFrS"
      },
      "outputs": [],
      "source": [
        "from keras.layers import Lambda, Reshape\n",
        "\n",
        "def define_composite_model(g_model_1, d_model, g_model_2, image_shape):\n",
        "    g_model_1.trainable = True\n",
        "    d_model.trainable = False\n",
        "    g_model_2.trainable = False\n",
        "\n",
        "    # Input for generated images\n",
        "    input_gen = Input(shape=image_shape)\n",
        "\n",
        "    # Resize generated images to the shape expected by the discriminator\n",
        "    resized_gen = Lambda(lambda x: tf.image.resize(x, (64, 64), method=tf.image.ResizeMethod.BILINEAR))(input_gen)\n",
        "\n",
        "    # Forward pass through the generator and discriminator\n",
        "    gen_1_out = g_model_1(resized_gen)\n",
        "    output_d = d_model(gen_1_out)\n",
        "\n",
        "    # Input for identity mapping\n",
        "    input_id = Input(shape=image_shape)\n",
        "\n",
        "    # Forward pass for identity mapping\n",
        "    output_id = g_model_1(input_id)\n",
        "\n",
        "    # Forward and backward cycle loss\n",
        "    output_f = g_model_2(gen_1_out)\n",
        "    gen_2_out = g_model_2(input_id)\n",
        "    output_b = g_model_1(gen_2_out)\n",
        "\n",
        "    # Define the composite model\n",
        "    model = Model([input_gen, input_id], [output_d, output_id, output_f, output_b])\n",
        "\n",
        "    opt = Adam(learning_rate=0.0002, beta_1=0.5)\n",
        "\n",
        "    model.compile(loss=['mse', 'mae', 'mae', 'mae'], loss_weights=[1, 5, 10, 10], optimizer=opt)\n",
        "\n",
        "    return model"
      ]
    },
    {
      "cell_type": "markdown",
      "metadata": {
        "id": "aPr51Bg-xFrT"
      },
      "source": [
        "## Load real samples"
      ]
    },
    {
      "cell_type": "code",
      "execution_count": 12,
      "metadata": {
        "execution": {
          "iopub.execute_input": "2023-11-02T08:22:12.857355Z",
          "iopub.status.busy": "2023-11-02T08:22:12.857022Z",
          "iopub.status.idle": "2023-11-02T08:22:12.872136Z",
          "shell.execute_reply": "2023-11-02T08:22:12.871157Z",
          "shell.execute_reply.started": "2023-11-02T08:22:12.857323Z"
        },
        "id": "87wb9c9HxFrT"
      },
      "outputs": [],
      "source": [
        "def load_real_samples(filename):\n",
        "    data = load(filename)\n",
        "    X1,X2 = data['dataA'],data['dataB']\n",
        "    X1 = (X1-127.5)/127.5 #for source image\n",
        "    X2 = (X2-127.5)/127.5 # for corresponding target images\n",
        "    return [X1,X2]"
      ]
    },
    {
      "cell_type": "code",
      "execution_count": 13,
      "metadata": {
        "execution": {
          "iopub.execute_input": "2023-11-02T08:22:12.877464Z",
          "iopub.status.busy": "2023-11-02T08:22:12.876907Z",
          "iopub.status.idle": "2023-11-02T08:22:12.883341Z",
          "shell.execute_reply": "2023-11-02T08:22:12.882468Z",
          "shell.execute_reply.started": "2023-11-02T08:22:12.877413Z"
        },
        "id": "d-aSfj3pxFrU"
      },
      "outputs": [],
      "source": [
        "import random\n",
        "\n",
        "def generate_real_samples(dataset, n_samples, patch_shape):\n",
        "    # choose random instances\n",
        "    ix = randint(0,dataset.shape[0], n_samples)\n",
        "    # retrieve selected images\n",
        "    X = dataset[ix]\n",
        "    # generate 'real' class labels (1)\n",
        "    y = np.ones((n_samples, patch_shape, patch_shape, 1))\n",
        "    return X, y\n"
      ]
    },
    {
      "cell_type": "code",
      "execution_count": 14,
      "metadata": {
        "execution": {
          "iopub.execute_input": "2023-11-02T08:22:12.884803Z",
          "iopub.status.busy": "2023-11-02T08:22:12.884477Z",
          "iopub.status.idle": "2023-11-02T08:22:12.895206Z",
          "shell.execute_reply": "2023-11-02T08:22:12.894278Z",
          "shell.execute_reply.started": "2023-11-02T08:22:12.884773Z"
        },
        "id": "V7rlK-brxFrU"
      },
      "outputs": [],
      "source": [
        "##select a batch of random samples,return images and target\n",
        "def generate_fake_samples(g_model, dataset, patch_shape):\n",
        "    # Generate a batch of random noise as input for the generator\n",
        "    X = g_model.predict(dataset)\n",
        "\n",
        "    # Create 'fake' class labels (0)\n",
        "    y = np.zeros((len(X), patch_shape,patch_shape, 1))\n",
        "\n",
        "    return X, y\n"
      ]
    },
    {
      "cell_type": "code",
      "execution_count": 15,
      "metadata": {
        "execution": {
          "iopub.execute_input": "2023-11-02T08:22:12.911367Z",
          "iopub.status.busy": "2023-11-02T08:22:12.911097Z",
          "iopub.status.idle": "2023-11-02T08:22:12.921357Z",
          "shell.execute_reply": "2023-11-02T08:22:12.920351Z",
          "shell.execute_reply.started": "2023-11-02T08:22:12.911344Z"
        },
        "id": "wpn75weZxFrV"
      },
      "outputs": [],
      "source": [
        "#update image pool for fake image\n",
        "import random  # Import the random module\n",
        "\n",
        "def update_image_pool(pool, images, max_size=50):\n",
        "    selected = list()\n",
        "    for image in images:\n",
        "        if len(pool) < max_size:\n",
        "            # Stock the pool\n",
        "            pool.append(image)\n",
        "            selected.append(image)\n",
        "        elif random.random() < 0.5:  # Use random.random() instead of random() here\n",
        "            # Use image, but don't add it to the pool\n",
        "            selected.append(image)\n",
        "        else:\n",
        "            # Replace an existing image and use the replaced image\n",
        "            ix = np.random.randint(0, len(pool))\n",
        "            selected.append(pool[ix])\n",
        "            pool[ix] = image\n",
        "    return np.asarray(selected)  # This line should be outside the for loop\n",
        "\n"
      ]
    },
    {
      "cell_type": "code",
      "execution_count": 16,
      "metadata": {
        "execution": {
          "iopub.execute_input": "2023-11-02T08:22:12.922787Z",
          "iopub.status.busy": "2023-11-02T08:22:12.922517Z",
          "iopub.status.idle": "2023-11-02T08:22:12.932786Z",
          "shell.execute_reply": "2023-11-02T08:22:12.931928Z",
          "shell.execute_reply.started": "2023-11-02T08:22:12.922765Z"
        },
        "id": "O_axtj9fxFrV"
      },
      "outputs": [],
      "source": [
        "def show_image(image , title = None):\n",
        "    plt.imshow(image)\n",
        "    plt.title(title)\n",
        "    plt.axis('off')"
      ]
    },
    {
      "cell_type": "code",
      "execution_count": 24,
      "metadata": {
        "execution": {
          "iopub.execute_input": "2023-11-02T08:22:12.934159Z",
          "iopub.status.busy": "2023-11-02T08:22:12.933918Z",
          "iopub.status.idle": "2023-11-02T08:22:12.944782Z",
          "shell.execute_reply": "2023-11-02T08:22:12.943825Z",
          "shell.execute_reply.started": "2023-11-02T08:22:12.934135Z"
        },
        "id": "VZN8geFyxFrV"
      },
      "outputs": [],
      "source": [
        "def show_preds(g_AB, g_BA, n_images=1):\n",
        "    for i in range(n_images):\n",
        "        id = np.random.randint(len(dataA))\n",
        "        data = load('/content/celeb.npz')\n",
        "        celeb, cartoon = dataA[id], dataB[id]\n",
        "        celeb_pred, cartoon_pred = g_BA.predict(tf.expand_dims(cartoon, axis=0))[0], g_AB.predict(tf.expand_dims(celeb, axis=0))[0]\n",
        "\n",
        "        plt.figure(figsize=(10, 8))\n",
        "\n",
        "        plt.subplot(1, 4, 1)\n",
        "        show_image(celeb.astype('uint8'), title='Org Man w/ glasses')\n",
        "\n",
        "        plt.subplot(1, 4, 2)\n",
        "        show_image(cartoon_pred, title='Gen Man w/ glasses')\n",
        "\n",
        "        plt.subplot(1, 4, 3)\n",
        "        show_image(cartoon.astype('uint8'), title='Org Man w/o glasses')\n",
        "\n",
        "        plt.subplot(1, 4, 4)\n",
        "        show_image(celeb_pred, title='Gen man w/o glasses')\n",
        "\n",
        "\n",
        "        plt.show()"
      ]
    },
    {
      "cell_type": "markdown",
      "metadata": {
        "id": "DTrpXbIXxFrW"
      },
      "source": [
        "## Train cyclegan model"
      ]
    },
    {
      "cell_type": "code",
      "execution_count": 18,
      "metadata": {
        "execution": {
          "iopub.execute_input": "2023-11-02T08:22:12.946485Z",
          "iopub.status.busy": "2023-11-02T08:22:12.946151Z",
          "iopub.status.idle": "2023-11-02T08:22:12.961181Z",
          "shell.execute_reply": "2023-11-02T08:22:12.960140Z",
          "shell.execute_reply.started": "2023-11-02T08:22:12.946454Z"
        },
        "id": "G4oA53xkxFrW"
      },
      "outputs": [],
      "source": [
        "# train cyclegan model\n",
        "def train(dataset,d_model_A, d_model_B, g_model_AtoB, g_model_BtoA, c_model_AtoB, c_model_BtoA,epochs=2, chunk=5):\n",
        "    #define peroperties of the training run\n",
        "    n_epochs, n_batch = epochs, 1\n",
        "    #determine the output square shape of discriminator\n",
        "    n_patch = d_model_A.output_shape[1]\n",
        "    #unpack dataset\n",
        "    trainA, trainB = dataset[0], dataset[1]\n",
        "    #prepare image pool for fakes\n",
        "    poolA, poolB = list(), list()\n",
        "    #calcute the number of batches per training epoch\n",
        "    batch_per_epoch = int(len(trainA)/n_batch)\n",
        "    #calcute the number of training iteration\n",
        "    n_steps = batch_per_epoch\n",
        "    #manually enumerate epochs\n",
        "    for j in tqdm(range(epochs), desc='Epochs'):\n",
        "        for i in tqdm(range(n_steps), desc='Batchs'):\n",
        "            #select a batch of real sample\n",
        "            X_realA, y_realA = generate_real_samples(trainA,n_batch, n_patch)\n",
        "            X_realB, y_realB = generate_real_samples(trainB,n_batch, n_patch)\n",
        "\n",
        "            #genarate a batch of fake sample\n",
        "            X_fakeA, y_fakeA = generate_fake_samples(g_model_BtoA, X_realB, n_patch)\n",
        "            X_fakeB, y_fakeB = generate_fake_samples(g_model_AtoB, X_realA, n_patch)\n",
        "\n",
        "\n",
        "\n",
        "\n",
        "\n",
        "            #update fakes from pool\n",
        "            X_fakeA = update_image_pool(poolA, X_fakeA)\n",
        "            X_fakeB = update_image_pool(poolB, X_fakeB)\n",
        "\n",
        "            #update generator B->A via adversarial and cycle loss\n",
        "            gen_loss2, _, _, _,_ = c_model_BtoA.train_on_batch([X_realB, X_realA], [y_realA, X_realA, X_realB, X_realA])\n",
        "\n",
        "\n",
        "            # update discriminator for A->[real/fake]\n",
        "            dA_loss_1 = d_model_A.train_on_batch(X_realA, y_realA)\n",
        "            dA_loss_2 = d_model_A.train_on_batch(X_fakeA, y_fakeA)\n",
        "\n",
        "            #update generator A->B via adversarial and cycle loss\n",
        "            gen_loss1, _, _, _,_ = c_model_AtoB.train_on_batch([X_realA, X_realB], [y_realB, X_realB, X_realA, X_realB])\n",
        "\n",
        "            # update discriminator for B->[real/fake]\n",
        "            dB_loss_1 = d_model_B.train_on_batch(X_realB, y_realB)\n",
        "            dB_loss_2 = d_model_B.train_on_batch(X_fakeB, y_fakeB)\n",
        "\n",
        "            #summerize performance\n",
        "            print('>%d, dA[%.3f ,%.3f ] dB[%.3f ,%.3f] g[%.3f ,%.3f]' %(i+1,dA_loss_1,dA_loss_2, dB_loss_1,dB_loss_2,gen_loss1,gen_loss2))\n",
        "\n",
        "        if(j%chunk)==0:\n",
        "            show_preds(g_model_AtoB,g_model_BtoA, n_images=1)\n",
        "\n"
      ]
    },
    {
      "cell_type": "code",
      "execution_count": 25,
      "metadata": {
        "_kg_hide-output": true,
        "execution": {
          "iopub.execute_input": "2023-11-02T08:22:12.962714Z",
          "iopub.status.busy": "2023-11-02T08:22:12.962389Z",
          "iopub.status.idle": "2023-11-02T09:37:55.302809Z",
          "shell.execute_reply": "2023-11-02T09:37:55.301814Z",
          "shell.execute_reply.started": "2023-11-02T08:22:12.962690Z"
        },
        "colab": {
          "base_uri": "https://localhost:8080/",
          "height": 1000
        },
        "id": "B23DTTlaxFrX",
        "outputId": "467ecd3f-f857-4e2b-8056-6a3d458d9253"
      },
      "outputs": [
        {
          "output_type": "stream",
          "name": "stdout",
          "text": [
            "Loaded (123, 64, 64, 3) (965, 64, 64, 3)\n"
          ]
        },
        {
          "output_type": "stream",
          "name": "stderr",
          "text": [
            "Epochs:   0%|          | 0/1 [00:00<?, ?it/s]\n",
            "Batchs:   0%|          | 0/123 [00:00<?, ?it/s]\u001b[A"
          ]
        },
        {
          "output_type": "stream",
          "name": "stdout",
          "text": [
            "1/1 [==============================] - 1s 1s/step\n",
            "1/1 [==============================] - 1s 1s/step\n"
          ]
        },
        {
          "output_type": "stream",
          "name": "stderr",
          "text": [
            "WARNING:tensorflow:5 out of the last 739 calls to <function Model.make_train_function.<locals>.train_function at 0x7864695a69e0> triggered tf.function retracing. Tracing is expensive and the excessive number of tracings could be due to (1) creating @tf.function repeatedly in a loop, (2) passing tensors with different shapes, (3) passing Python objects instead of tensors. For (1), please define your @tf.function outside of the loop. For (2), @tf.function has reduce_retracing=True option that can avoid unnecessary retracing. For (3), please refer to https://www.tensorflow.org/guide/function#controlling_retracing and https://www.tensorflow.org/api_docs/python/tf/function for  more details.\n",
            "\n",
            "Batchs:   1%|          | 1/123 [01:44<3:33:15, 104.88s/it]\u001b[A"
          ]
        },
        {
          "output_type": "stream",
          "name": "stdout",
          "text": [
            ">1, dA[0.957 ,0.722 ] dB[0.632 ,0.635] g[18.593 ,20.170]\n",
            "1/1 [==============================] - 0s 348ms/step\n",
            "1/1 [==============================] - 0s 326ms/step\n"
          ]
        },
        {
          "output_type": "stream",
          "name": "stderr",
          "text": [
            "\n",
            "Batchs:   2%|▏         | 2/123 [02:02<1:48:00, 53.56s/it] \u001b[A"
          ]
        },
        {
          "output_type": "stream",
          "name": "stdout",
          "text": [
            ">2, dA[2.625 ,0.846 ] dB[0.751 ,0.697] g[18.703 ,18.946]\n",
            "1/1 [==============================] - 0s 443ms/step\n",
            "1/1 [==============================] - 1s 589ms/step\n"
          ]
        },
        {
          "output_type": "stream",
          "name": "stderr",
          "text": [
            "\n",
            "Batchs:   2%|▏         | 3/123 [02:15<1:09:52, 34.93s/it]\u001b[A"
          ]
        },
        {
          "output_type": "stream",
          "name": "stdout",
          "text": [
            ">3, dA[0.683 ,0.310 ] dB[0.616 ,0.899] g[20.510 ,20.395]\n",
            "1/1 [==============================] - 1s 522ms/step\n",
            "1/1 [==============================] - 0s 330ms/step\n"
          ]
        },
        {
          "output_type": "stream",
          "name": "stderr",
          "text": [
            "\n",
            "Batchs:   3%|▎         | 4/123 [02:28<52:07, 26.28s/it]  \u001b[A"
          ]
        },
        {
          "output_type": "stream",
          "name": "stdout",
          "text": [
            ">4, dA[0.793 ,0.252 ] dB[0.555 ,0.740] g[16.959 ,17.978]\n",
            "1/1 [==============================] - 0s 324ms/step\n",
            "1/1 [==============================] - 0s 320ms/step\n"
          ]
        },
        {
          "output_type": "stream",
          "name": "stderr",
          "text": [
            "\n",
            "Batchs:   4%|▍         | 5/123 [02:40<41:48, 21.26s/it]\u001b[A"
          ]
        },
        {
          "output_type": "stream",
          "name": "stdout",
          "text": [
            ">5, dA[0.612 ,0.517 ] dB[1.068 ,1.590] g[19.890 ,19.241]\n",
            "1/1 [==============================] - 0s 328ms/step\n",
            "1/1 [==============================] - 0s 318ms/step\n"
          ]
        },
        {
          "output_type": "stream",
          "name": "stderr",
          "text": [
            "\n",
            "Batchs:   5%|▍         | 6/123 [02:56<38:06, 19.55s/it]\u001b[A"
          ]
        },
        {
          "output_type": "stream",
          "name": "stdout",
          "text": [
            ">6, dA[2.241 ,0.538 ] dB[0.801 ,0.930] g[19.183 ,19.075]\n",
            "1/1 [==============================] - 0s 327ms/step\n",
            "1/1 [==============================] - 0s 325ms/step\n"
          ]
        },
        {
          "output_type": "stream",
          "name": "stderr",
          "text": [
            "\n",
            "Batchs:   6%|▌         | 7/123 [03:09<33:17, 17.22s/it]\u001b[A"
          ]
        },
        {
          "output_type": "stream",
          "name": "stdout",
          "text": [
            ">7, dA[2.438 ,0.726 ] dB[4.287 ,1.614] g[19.259 ,17.283]\n",
            "1/1 [==============================] - 0s 334ms/step\n",
            "1/1 [==============================] - 0s 346ms/step\n"
          ]
        },
        {
          "output_type": "stream",
          "name": "stderr",
          "text": [
            "\n",
            "Batchs:   7%|▋         | 8/123 [03:26<32:44, 17.08s/it]\u001b[A"
          ]
        },
        {
          "output_type": "stream",
          "name": "stdout",
          "text": [
            ">8, dA[1.163 ,0.480 ] dB[3.039 ,1.267] g[22.206 ,21.510]\n",
            "1/1 [==============================] - 0s 343ms/step\n",
            "1/1 [==============================] - 0s 337ms/step\n"
          ]
        },
        {
          "output_type": "stream",
          "name": "stderr",
          "text": [
            "\n",
            "Batchs:   7%|▋         | 9/123 [03:38<29:43, 15.64s/it]\u001b[A"
          ]
        },
        {
          "output_type": "stream",
          "name": "stdout",
          "text": [
            ">9, dA[1.297 ,0.418 ] dB[2.102 ,0.548] g[19.808 ,19.669]\n",
            "1/1 [==============================] - 0s 326ms/step\n",
            "1/1 [==============================] - 0s 336ms/step\n"
          ]
        },
        {
          "output_type": "stream",
          "name": "stderr",
          "text": [
            "\n",
            "Batchs:   8%|▊         | 10/123 [03:52<28:16, 15.01s/it]\u001b[A"
          ]
        },
        {
          "output_type": "stream",
          "name": "stdout",
          "text": [
            ">10, dA[1.583 ,1.657 ] dB[1.350 ,0.539] g[18.139 ,20.048]\n",
            "1/1 [==============================] - 1s 567ms/step\n",
            "1/1 [==============================] - 1s 615ms/step\n"
          ]
        },
        {
          "output_type": "stream",
          "name": "stderr",
          "text": [
            "\n",
            "Batchs:   9%|▉         | 11/123 [04:05<26:48, 14.36s/it]\u001b[A"
          ]
        },
        {
          "output_type": "stream",
          "name": "stdout",
          "text": [
            ">11, dA[1.154 ,1.696 ] dB[2.314 ,0.945] g[20.647 ,22.482]\n",
            "1/1 [==============================] - 1s 523ms/step\n",
            "1/1 [==============================] - 0s 495ms/step\n"
          ]
        },
        {
          "output_type": "stream",
          "name": "stderr",
          "text": [
            "\n",
            "Batchs:  10%|▉         | 12/123 [04:17<25:16, 13.67s/it]\u001b[A"
          ]
        },
        {
          "output_type": "stream",
          "name": "stdout",
          "text": [
            ">12, dA[2.244 ,1.215 ] dB[1.111 ,0.677] g[20.231 ,21.261]\n",
            "1/1 [==============================] - 1s 600ms/step\n",
            "1/1 [==============================] - 1s 583ms/step\n"
          ]
        },
        {
          "output_type": "stream",
          "name": "stderr",
          "text": [
            "\n",
            "Batchs:  11%|█         | 13/123 [04:29<24:15, 13.23s/it]\u001b[A"
          ]
        },
        {
          "output_type": "stream",
          "name": "stdout",
          "text": [
            ">13, dA[2.309 ,0.727 ] dB[1.732 ,5.172] g[24.780 ,21.311]\n",
            "1/1 [==============================] - 0s 341ms/step\n",
            "1/1 [==============================] - 0s 386ms/step\n"
          ]
        },
        {
          "output_type": "stream",
          "name": "stderr",
          "text": [
            "\n",
            "Batchs:  11%|█▏        | 14/123 [04:42<23:45, 13.08s/it]\u001b[A"
          ]
        },
        {
          "output_type": "stream",
          "name": "stdout",
          "text": [
            ">14, dA[1.244 ,1.274 ] dB[1.252 ,1.271] g[17.829 ,19.610]\n",
            "1/1 [==============================] - 0s 336ms/step\n",
            "1/1 [==============================] - 0s 318ms/step\n"
          ]
        },
        {
          "output_type": "stream",
          "name": "stderr",
          "text": [
            "\n",
            "Batchs:  12%|█▏        | 15/123 [04:54<23:13, 12.90s/it]\u001b[A"
          ]
        },
        {
          "output_type": "stream",
          "name": "stdout",
          "text": [
            ">15, dA[3.588 ,0.570 ] dB[4.025 ,2.216] g[20.154 ,18.189]\n",
            "1/1 [==============================] - 0s 334ms/step\n",
            "1/1 [==============================] - 0s 330ms/step\n"
          ]
        },
        {
          "output_type": "stream",
          "name": "stderr",
          "text": [
            "\n",
            "Batchs:  13%|█▎        | 16/123 [05:07<22:59, 12.90s/it]\u001b[A"
          ]
        },
        {
          "output_type": "stream",
          "name": "stdout",
          "text": [
            ">16, dA[1.831 ,5.387 ] dB[1.787 ,2.209] g[20.177 ,29.670]\n",
            "1/1 [==============================] - 0s 329ms/step\n",
            "1/1 [==============================] - 0s 319ms/step\n"
          ]
        },
        {
          "output_type": "stream",
          "name": "stderr",
          "text": [
            "\n",
            "Batchs:  14%|█▍        | 17/123 [05:23<24:36, 13.93s/it]\u001b[A"
          ]
        },
        {
          "output_type": "stream",
          "name": "stdout",
          "text": [
            ">17, dA[1.806 ,2.499 ] dB[7.514 ,1.507] g[16.915 ,19.777]\n",
            "1/1 [==============================] - 0s 333ms/step\n",
            "1/1 [==============================] - 0s 326ms/step\n"
          ]
        },
        {
          "output_type": "stream",
          "name": "stderr",
          "text": [
            "\n",
            "Batchs:  15%|█▍        | 18/123 [05:36<23:37, 13.50s/it]\u001b[A"
          ]
        },
        {
          "output_type": "stream",
          "name": "stdout",
          "text": [
            ">18, dA[0.840 ,5.353 ] dB[3.410 ,1.909] g[22.003 ,21.086]\n",
            "1/1 [==============================] - 0s 330ms/step\n",
            "1/1 [==============================] - 0s 335ms/step\n"
          ]
        },
        {
          "output_type": "stream",
          "name": "stderr",
          "text": [
            "\n",
            "Batchs:  15%|█▌        | 19/123 [05:48<22:47, 13.15s/it]\u001b[A"
          ]
        },
        {
          "output_type": "stream",
          "name": "stdout",
          "text": [
            ">19, dA[0.894 ,1.671 ] dB[1.070 ,0.601] g[17.852 ,19.522]\n",
            "1/1 [==============================] - 0s 471ms/step\n",
            "1/1 [==============================] - 0s 349ms/step\n"
          ]
        },
        {
          "output_type": "stream",
          "name": "stderr",
          "text": [
            "\n",
            "Batchs:  16%|█▋        | 20/123 [06:02<22:43, 13.24s/it]\u001b[A"
          ]
        },
        {
          "output_type": "stream",
          "name": "stdout",
          "text": [
            ">20, dA[2.094 ,1.252 ] dB[0.528 ,1.533] g[20.158 ,19.694]\n",
            "1/1 [==============================] - 1s 633ms/step\n",
            "1/1 [==============================] - 1s 643ms/step\n"
          ]
        },
        {
          "output_type": "stream",
          "name": "stderr",
          "text": [
            "\n",
            "Batchs:  17%|█▋        | 21/123 [06:14<22:10, 13.05s/it]\u001b[A"
          ]
        },
        {
          "output_type": "stream",
          "name": "stdout",
          "text": [
            ">21, dA[1.417 ,1.657 ] dB[0.801 ,0.798] g[17.833 ,17.750]\n",
            "1/1 [==============================] - 0s 326ms/step\n",
            "1/1 [==============================] - 0s 323ms/step\n"
          ]
        },
        {
          "output_type": "stream",
          "name": "stderr",
          "text": [
            "\n",
            "Batchs:  18%|█▊        | 22/123 [06:27<21:48, 12.95s/it]\u001b[A"
          ]
        },
        {
          "output_type": "stream",
          "name": "stdout",
          "text": [
            ">22, dA[1.771 ,1.381 ] dB[1.368 ,1.680] g[20.442 ,20.607]\n",
            "1/1 [==============================] - 0s 324ms/step\n",
            "1/1 [==============================] - 0s 322ms/step\n"
          ]
        },
        {
          "output_type": "stream",
          "name": "stderr",
          "text": [
            "\n",
            "Batchs:  19%|█▊        | 23/123 [06:39<21:19, 12.80s/it]\u001b[A"
          ]
        },
        {
          "output_type": "stream",
          "name": "stdout",
          "text": [
            ">23, dA[1.521 ,4.883 ] dB[1.273 ,0.872] g[20.401 ,26.820]\n",
            "1/1 [==============================] - 0s 327ms/step\n",
            "1/1 [==============================] - 0s 326ms/step\n"
          ]
        },
        {
          "output_type": "stream",
          "name": "stderr",
          "text": [
            "\n",
            "Batchs:  20%|█▉        | 24/123 [06:56<22:58, 13.92s/it]\u001b[A"
          ]
        },
        {
          "output_type": "stream",
          "name": "stdout",
          "text": [
            ">24, dA[0.463 ,1.547 ] dB[1.593 ,1.448] g[16.893 ,18.292]\n",
            "1/1 [==============================] - 0s 328ms/step\n",
            "1/1 [==============================] - 0s 323ms/step\n"
          ]
        },
        {
          "output_type": "stream",
          "name": "stderr",
          "text": [
            "\n",
            "Batchs:  20%|██        | 25/123 [07:13<24:29, 15.00s/it]\u001b[A"
          ]
        },
        {
          "output_type": "stream",
          "name": "stdout",
          "text": [
            ">25, dA[1.852 ,2.040 ] dB[1.006 ,0.530] g[18.281 ,19.573]\n",
            "1/1 [==============================] - 0s 346ms/step\n",
            "1/1 [==============================] - 1s 591ms/step\n"
          ]
        },
        {
          "output_type": "stream",
          "name": "stderr",
          "text": [
            "\n",
            "Batchs:  21%|██        | 26/123 [07:32<25:50, 15.99s/it]\u001b[A"
          ]
        },
        {
          "output_type": "stream",
          "name": "stdout",
          "text": [
            ">26, dA[8.608 ,1.762 ] dB[1.394 ,4.647] g[25.996 ,17.967]\n",
            "1/1 [==============================] - 1s 963ms/step\n",
            "1/1 [==============================] - 1s 619ms/step\n"
          ]
        },
        {
          "output_type": "stream",
          "name": "stderr",
          "text": [
            "\n",
            "Batchs:  22%|██▏       | 27/123 [07:51<27:00, 16.88s/it]\u001b[A"
          ]
        },
        {
          "output_type": "stream",
          "name": "stdout",
          "text": [
            ">27, dA[1.922 ,3.862 ] dB[1.229 ,1.424] g[19.194 ,23.730]\n",
            "1/1 [==============================] - 0s 330ms/step\n",
            "1/1 [==============================] - 0s 334ms/step\n"
          ]
        },
        {
          "output_type": "stream",
          "name": "stderr",
          "text": [
            "\n",
            "Batchs:  23%|██▎       | 28/123 [08:03<24:38, 15.57s/it]\u001b[A"
          ]
        },
        {
          "output_type": "stream",
          "name": "stdout",
          "text": [
            ">28, dA[2.773 ,1.750 ] dB[1.181 ,3.735] g[23.727 ,20.736]\n",
            "1/1 [==============================] - 0s 325ms/step\n",
            "1/1 [==============================] - 0s 345ms/step\n"
          ]
        },
        {
          "output_type": "stream",
          "name": "stderr",
          "text": [
            "\n",
            "Batchs:  24%|██▎       | 29/123 [08:20<24:53, 15.88s/it]\u001b[A"
          ]
        },
        {
          "output_type": "stream",
          "name": "stdout",
          "text": [
            ">29, dA[1.501 ,2.358 ] dB[1.079 ,1.527] g[20.019 ,18.216]\n",
            "1/1 [==============================] - 0s 327ms/step\n",
            "1/1 [==============================] - 0s 327ms/step\n"
          ]
        },
        {
          "output_type": "stream",
          "name": "stderr",
          "text": [
            "\n",
            "Batchs:  24%|██▍       | 30/123 [08:36<24:47, 15.99s/it]\u001b[A"
          ]
        },
        {
          "output_type": "stream",
          "name": "stdout",
          "text": [
            ">30, dA[1.482 ,2.909 ] dB[0.602 ,1.955] g[20.714 ,21.507]\n",
            "1/1 [==============================] - 0s 342ms/step\n",
            "1/1 [==============================] - 0s 324ms/step\n"
          ]
        },
        {
          "output_type": "stream",
          "name": "stderr",
          "text": [
            "\n",
            "Batchs:  25%|██▌       | 31/123 [08:49<23:06, 15.07s/it]\u001b[A"
          ]
        },
        {
          "output_type": "stream",
          "name": "stdout",
          "text": [
            ">31, dA[3.060 ,1.654 ] dB[1.677 ,0.886] g[16.881 ,20.742]\n",
            "1/1 [==============================] - 0s 325ms/step\n",
            "1/1 [==============================] - 0s 321ms/step\n"
          ]
        },
        {
          "output_type": "stream",
          "name": "stderr",
          "text": [
            "\n",
            "Batchs:  26%|██▌       | 32/123 [09:01<21:42, 14.31s/it]\u001b[A"
          ]
        },
        {
          "output_type": "stream",
          "name": "stdout",
          "text": [
            ">32, dA[0.872 ,0.782 ] dB[0.365 ,0.761] g[14.788 ,16.099]\n",
            "1/1 [==============================] - 0s 344ms/step\n",
            "1/1 [==============================] - 0s 320ms/step\n"
          ]
        },
        {
          "output_type": "stream",
          "name": "stderr",
          "text": [
            "\n",
            "Batchs:  27%|██▋       | 33/123 [09:18<22:19, 14.88s/it]\u001b[A"
          ]
        },
        {
          "output_type": "stream",
          "name": "stdout",
          "text": [
            ">33, dA[6.177 ,2.596 ] dB[1.342 ,5.963] g[26.823 ,18.562]\n",
            "1/1 [==============================] - 0s 325ms/step\n",
            "1/1 [==============================] - 0s 333ms/step\n"
          ]
        },
        {
          "output_type": "stream",
          "name": "stderr",
          "text": [
            "\n",
            "Batchs:  28%|██▊       | 34/123 [09:34<22:39, 15.28s/it]\u001b[A"
          ]
        },
        {
          "output_type": "stream",
          "name": "stdout",
          "text": [
            ">34, dA[1.024 ,2.607 ] dB[3.131 ,0.491] g[16.493 ,19.710]\n",
            "1/1 [==============================] - 0s 322ms/step\n",
            "1/1 [==============================] - 0s 326ms/step\n"
          ]
        },
        {
          "output_type": "stream",
          "name": "stderr",
          "text": [
            "\n",
            "Batchs:  28%|██▊       | 35/123 [09:51<23:01, 15.70s/it]\u001b[A"
          ]
        },
        {
          "output_type": "stream",
          "name": "stdout",
          "text": [
            ">35, dA[1.079 ,1.076 ] dB[0.995 ,1.975] g[18.294 ,14.701]\n",
            "1/1 [==============================] - 0s 330ms/step\n",
            "1/1 [==============================] - 0s 319ms/step\n"
          ]
        },
        {
          "output_type": "stream",
          "name": "stderr",
          "text": [
            "\n",
            "Batchs:  29%|██▉       | 36/123 [10:08<23:23, 16.13s/it]\u001b[A"
          ]
        },
        {
          "output_type": "stream",
          "name": "stdout",
          "text": [
            ">36, dA[1.474 ,0.788 ] dB[0.902 ,1.660] g[17.218 ,14.070]\n",
            "1/1 [==============================] - 0s 325ms/step\n",
            "1/1 [==============================] - 0s 330ms/step\n"
          ]
        },
        {
          "output_type": "stream",
          "name": "stderr",
          "text": [
            "\n",
            "Batchs:  30%|███       | 37/123 [10:26<24:10, 16.86s/it]\u001b[A"
          ]
        },
        {
          "output_type": "stream",
          "name": "stdout",
          "text": [
            ">37, dA[0.923 ,0.990 ] dB[0.651 ,2.003] g[16.486 ,16.571]\n",
            "1/1 [==============================] - 1s 573ms/step\n",
            "1/1 [==============================] - 1s 559ms/step\n"
          ]
        },
        {
          "output_type": "stream",
          "name": "stderr",
          "text": [
            "\n",
            "Batchs:  31%|███       | 38/123 [10:43<23:51, 16.84s/it]\u001b[A"
          ]
        },
        {
          "output_type": "stream",
          "name": "stdout",
          "text": [
            ">38, dA[0.398 ,0.462 ] dB[0.624 ,0.848] g[16.661 ,18.453]\n",
            "1/1 [==============================] - 0s 324ms/step\n",
            "1/1 [==============================] - 0s 350ms/step\n"
          ]
        },
        {
          "output_type": "stream",
          "name": "stderr",
          "text": [
            "\n",
            "Batchs:  32%|███▏      | 39/123 [10:59<23:20, 16.67s/it]\u001b[A"
          ]
        },
        {
          "output_type": "stream",
          "name": "stdout",
          "text": [
            ">39, dA[4.643 ,0.738 ] dB[0.999 ,2.457] g[17.497 ,15.006]\n",
            "1/1 [==============================] - 0s 324ms/step\n",
            "1/1 [==============================] - 0s 334ms/step\n"
          ]
        },
        {
          "output_type": "stream",
          "name": "stderr",
          "text": [
            "\n",
            "Batchs:  33%|███▎      | 40/123 [11:16<22:54, 16.56s/it]\u001b[A"
          ]
        },
        {
          "output_type": "stream",
          "name": "stdout",
          "text": [
            ">40, dA[0.561 ,0.850 ] dB[0.918 ,0.586] g[12.951 ,14.136]\n",
            "1/1 [==============================] - 0s 332ms/step\n",
            "1/1 [==============================] - 0s 319ms/step\n"
          ]
        },
        {
          "output_type": "stream",
          "name": "stderr",
          "text": [
            "\n",
            "Batchs:  33%|███▎      | 41/123 [11:33<22:47, 16.67s/it]\u001b[A"
          ]
        },
        {
          "output_type": "stream",
          "name": "stdout",
          "text": [
            ">41, dA[0.774 ,1.142 ] dB[0.453 ,0.418] g[11.679 ,14.207]\n",
            "1/1 [==============================] - 0s 345ms/step\n",
            "1/1 [==============================] - 0s 337ms/step\n"
          ]
        },
        {
          "output_type": "stream",
          "name": "stderr",
          "text": [
            "\n",
            "Batchs:  34%|███▍      | 42/123 [11:45<20:56, 15.52s/it]\u001b[A"
          ]
        },
        {
          "output_type": "stream",
          "name": "stdout",
          "text": [
            ">42, dA[0.483 ,0.559 ] dB[0.950 ,1.014] g[16.023 ,16.161]\n",
            "1/1 [==============================] - 0s 331ms/step\n",
            "1/1 [==============================] - 0s 317ms/step\n"
          ]
        },
        {
          "output_type": "stream",
          "name": "stderr",
          "text": [
            "\n",
            "Batchs:  35%|███▍      | 43/123 [11:58<19:27, 14.59s/it]\u001b[A"
          ]
        },
        {
          "output_type": "stream",
          "name": "stdout",
          "text": [
            ">43, dA[0.654 ,0.309 ] dB[0.946 ,0.577] g[14.751 ,13.244]\n",
            "1/1 [==============================] - 0s 333ms/step\n",
            "1/1 [==============================] - 0s 321ms/step\n"
          ]
        },
        {
          "output_type": "stream",
          "name": "stderr",
          "text": [
            "\n",
            "Batchs:  36%|███▌      | 44/123 [12:14<19:52, 15.09s/it]\u001b[A"
          ]
        },
        {
          "output_type": "stream",
          "name": "stdout",
          "text": [
            ">44, dA[2.023 ,0.351 ] dB[0.931 ,0.634] g[13.247 ,12.966]\n",
            "1/1 [==============================] - 0s 330ms/step\n",
            "1/1 [==============================] - 0s 322ms/step\n"
          ]
        },
        {
          "output_type": "stream",
          "name": "stderr",
          "text": [
            "\n",
            "Batchs:  37%|███▋      | 45/123 [12:29<19:27, 14.97s/it]\u001b[A"
          ]
        },
        {
          "output_type": "stream",
          "name": "stdout",
          "text": [
            ">45, dA[0.779 ,0.513 ] dB[0.589 ,0.563] g[10.783 ,11.463]\n",
            "1/1 [==============================] - 0s 325ms/step\n",
            "1/1 [==============================] - 0s 339ms/step\n"
          ]
        },
        {
          "output_type": "stream",
          "name": "stderr",
          "text": [
            "\n",
            "Batchs:  37%|███▋      | 46/123 [12:45<19:44, 15.38s/it]\u001b[A"
          ]
        },
        {
          "output_type": "stream",
          "name": "stdout",
          "text": [
            ">46, dA[0.758 ,0.251 ] dB[0.218 ,0.481] g[11.619 ,12.395]\n",
            "1/1 [==============================] - 0s 324ms/step\n",
            "1/1 [==============================] - 0s 324ms/step\n"
          ]
        },
        {
          "output_type": "stream",
          "name": "stderr",
          "text": [
            "\n",
            "Batchs:  38%|███▊      | 47/123 [13:02<19:59, 15.79s/it]\u001b[A"
          ]
        },
        {
          "output_type": "stream",
          "name": "stdout",
          "text": [
            ">47, dA[0.223 ,0.661 ] dB[0.770 ,0.629] g[12.681 ,13.553]\n",
            "1/1 [==============================] - 0s 322ms/step\n",
            "1/1 [==============================] - 0s 320ms/step\n"
          ]
        },
        {
          "output_type": "stream",
          "name": "stderr",
          "text": [
            "\n",
            "Batchs:  39%|███▉      | 48/123 [13:14<18:31, 14.82s/it]\u001b[A"
          ]
        },
        {
          "output_type": "stream",
          "name": "stdout",
          "text": [
            ">48, dA[0.768 ,0.514 ] dB[0.372 ,0.197] g[11.889 ,12.051]\n",
            "1/1 [==============================] - 0s 336ms/step\n",
            "1/1 [==============================] - 0s 319ms/step\n"
          ]
        },
        {
          "output_type": "stream",
          "name": "stderr",
          "text": [
            "\n",
            "Batchs:  40%|███▉      | 49/123 [13:27<17:33, 14.23s/it]\u001b[A"
          ]
        },
        {
          "output_type": "stream",
          "name": "stdout",
          "text": [
            ">49, dA[0.851 ,0.325 ] dB[0.262 ,0.939] g[16.727 ,16.292]\n",
            "1/1 [==============================] - 0s 325ms/step\n",
            "1/1 [==============================] - 0s 347ms/step\n"
          ]
        },
        {
          "output_type": "stream",
          "name": "stderr",
          "text": [
            "\n",
            "Batchs:  41%|████      | 50/123 [13:40<16:41, 13.71s/it]\u001b[A"
          ]
        },
        {
          "output_type": "stream",
          "name": "stdout",
          "text": [
            ">50, dA[0.204 ,0.784 ] dB[0.391 ,0.535] g[12.529 ,13.796]\n",
            "1/1 [==============================] - 0s 325ms/step\n",
            "1/1 [==============================] - 0s 333ms/step\n"
          ]
        },
        {
          "output_type": "stream",
          "name": "stderr",
          "text": [
            "\n",
            "Batchs:  41%|████▏     | 51/123 [13:51<15:39, 13.05s/it]\u001b[A"
          ]
        },
        {
          "output_type": "stream",
          "name": "stdout",
          "text": [
            ">51, dA[0.451 ,1.047 ] dB[0.241 ,0.681] g[14.315 ,14.587]\n",
            "1/1 [==============================] - 1s 586ms/step\n",
            "1/1 [==============================] - 1s 561ms/step\n"
          ]
        },
        {
          "output_type": "stream",
          "name": "stderr",
          "text": [
            "\n",
            "Batchs:  42%|████▏     | 52/123 [14:03<15:04, 12.75s/it]\u001b[A"
          ]
        },
        {
          "output_type": "stream",
          "name": "stdout",
          "text": [
            ">52, dA[3.389 ,0.917 ] dB[0.516 ,0.673] g[11.921 ,12.536]\n",
            "1/1 [==============================] - 0s 339ms/step\n",
            "1/1 [==============================] - 1s 534ms/step\n"
          ]
        },
        {
          "output_type": "stream",
          "name": "stderr",
          "text": [
            "\n",
            "Batchs:  43%|████▎     | 53/123 [14:16<14:55, 12.79s/it]\u001b[A"
          ]
        },
        {
          "output_type": "stream",
          "name": "stdout",
          "text": [
            ">53, dA[0.699 ,0.861 ] dB[0.380 ,0.950] g[12.029 ,12.883]\n",
            "1/1 [==============================] - 0s 321ms/step\n",
            "1/1 [==============================] - 0s 325ms/step\n"
          ]
        },
        {
          "output_type": "stream",
          "name": "stderr",
          "text": [
            "\n",
            "Batchs:  44%|████▍     | 54/123 [14:29<14:48, 12.87s/it]\u001b[A"
          ]
        },
        {
          "output_type": "stream",
          "name": "stdout",
          "text": [
            ">54, dA[0.815 ,2.124 ] dB[0.905 ,3.486] g[14.527 ,17.177]\n",
            "1/1 [==============================] - 0s 324ms/step\n",
            "1/1 [==============================] - 0s 329ms/step\n"
          ]
        },
        {
          "output_type": "stream",
          "name": "stderr",
          "text": [
            "\n",
            "Batchs:  45%|████▍     | 55/123 [14:44<15:05, 13.32s/it]\u001b[A"
          ]
        },
        {
          "output_type": "stream",
          "name": "stdout",
          "text": [
            ">55, dA[1.002 ,1.733 ] dB[0.395 ,0.402] g[12.260 ,12.178]\n",
            "1/1 [==============================] - 0s 323ms/step\n",
            "1/1 [==============================] - 0s 329ms/step\n"
          ]
        },
        {
          "output_type": "stream",
          "name": "stderr",
          "text": [
            "\n",
            "Batchs:  46%|████▌     | 56/123 [15:00<15:50, 14.18s/it]\u001b[A"
          ]
        },
        {
          "output_type": "stream",
          "name": "stdout",
          "text": [
            ">56, dA[0.924 ,4.087 ] dB[0.463 ,0.435] g[10.527 ,10.357]\n",
            "1/1 [==============================] - 0s 338ms/step\n",
            "1/1 [==============================] - 0s 328ms/step\n"
          ]
        },
        {
          "output_type": "stream",
          "name": "stderr",
          "text": [
            "\n",
            "Batchs:  46%|████▋     | 57/123 [15:16<16:22, 14.88s/it]\u001b[A"
          ]
        },
        {
          "output_type": "stream",
          "name": "stdout",
          "text": [
            ">57, dA[0.546 ,1.463 ] dB[1.222 ,2.661] g[14.218 ,14.153]\n",
            "1/1 [==============================] - 0s 324ms/step\n",
            "1/1 [==============================] - 0s 338ms/step\n"
          ]
        },
        {
          "output_type": "stream",
          "name": "stderr",
          "text": [
            "\n",
            "Batchs:  47%|████▋     | 58/123 [15:34<16:58, 15.67s/it]\u001b[A"
          ]
        },
        {
          "output_type": "stream",
          "name": "stdout",
          "text": [
            ">58, dA[2.098 ,0.956 ] dB[0.559 ,0.375] g[12.750 ,11.347]\n",
            "1/1 [==============================] - 0s 327ms/step\n",
            "1/1 [==============================] - 0s 422ms/step\n"
          ]
        },
        {
          "output_type": "stream",
          "name": "stderr",
          "text": [
            "\n",
            "Batchs:  48%|████▊     | 59/123 [15:47<15:47, 14.81s/it]\u001b[A"
          ]
        },
        {
          "output_type": "stream",
          "name": "stdout",
          "text": [
            ">59, dA[0.424 ,1.218 ] dB[1.277 ,0.499] g[10.775 ,11.868]\n",
            "1/1 [==============================] - 0s 329ms/step\n",
            "1/1 [==============================] - 0s 343ms/step\n"
          ]
        },
        {
          "output_type": "stream",
          "name": "stderr",
          "text": [
            "\n",
            "Batchs:  49%|████▉     | 60/123 [15:59<14:50, 14.14s/it]\u001b[A"
          ]
        },
        {
          "output_type": "stream",
          "name": "stdout",
          "text": [
            ">60, dA[0.432 ,1.203 ] dB[0.831 ,0.296] g[10.569 ,11.706]\n",
            "1/1 [==============================] - 0s 325ms/step\n",
            "1/1 [==============================] - 0s 334ms/step\n"
          ]
        },
        {
          "output_type": "stream",
          "name": "stderr",
          "text": [
            "\n",
            "Batchs:  50%|████▉     | 61/123 [16:16<15:27, 14.96s/it]\u001b[A"
          ]
        },
        {
          "output_type": "stream",
          "name": "stdout",
          "text": [
            ">61, dA[0.367 ,1.094 ] dB[0.419 ,1.531] g[11.931 ,9.310]\n",
            "1/1 [==============================] - 0s 342ms/step\n",
            "1/1 [==============================] - 0s 319ms/step\n"
          ]
        },
        {
          "output_type": "stream",
          "name": "stderr",
          "text": [
            "\n",
            "Batchs:  50%|█████     | 62/123 [16:29<14:33, 14.31s/it]\u001b[A"
          ]
        },
        {
          "output_type": "stream",
          "name": "stdout",
          "text": [
            ">62, dA[0.459 ,0.413 ] dB[0.208 ,0.632] g[12.958 ,13.074]\n",
            "1/1 [==============================] - 0s 342ms/step\n",
            "1/1 [==============================] - 0s 320ms/step\n"
          ]
        },
        {
          "output_type": "stream",
          "name": "stderr",
          "text": [
            "\n",
            "Batchs:  51%|█████     | 63/123 [16:46<15:08, 15.14s/it]\u001b[A"
          ]
        },
        {
          "output_type": "stream",
          "name": "stdout",
          "text": [
            ">63, dA[0.392 ,0.411 ] dB[1.117 ,0.691] g[12.429 ,12.658]\n",
            "1/1 [==============================] - 0s 330ms/step\n",
            "1/1 [==============================] - 0s 331ms/step\n"
          ]
        },
        {
          "output_type": "stream",
          "name": "stderr",
          "text": [
            "\n",
            "Batchs:  52%|█████▏    | 64/123 [16:59<14:07, 14.36s/it]\u001b[A"
          ]
        },
        {
          "output_type": "stream",
          "name": "stdout",
          "text": [
            ">64, dA[0.965 ,0.711 ] dB[0.567 ,0.929] g[12.092 ,12.706]\n",
            "1/1 [==============================] - 0s 322ms/step\n",
            "1/1 [==============================] - 0s 334ms/step\n"
          ]
        },
        {
          "output_type": "stream",
          "name": "stderr",
          "text": [
            "\n",
            "Batchs:  53%|█████▎    | 65/123 [17:16<14:41, 15.20s/it]\u001b[A"
          ]
        },
        {
          "output_type": "stream",
          "name": "stdout",
          "text": [
            ">65, dA[0.549 ,0.274 ] dB[0.360 ,0.414] g[10.863 ,9.537]\n",
            "1/1 [==============================] - 0s 392ms/step\n",
            "1/1 [==============================] - 0s 407ms/step\n"
          ]
        },
        {
          "output_type": "stream",
          "name": "stderr",
          "text": [
            "\n",
            "Batchs:  54%|█████▎    | 66/123 [17:29<13:47, 14.52s/it]\u001b[A"
          ]
        },
        {
          "output_type": "stream",
          "name": "stdout",
          "text": [
            ">66, dA[0.530 ,1.786 ] dB[0.268 ,0.127] g[8.623 ,10.048]\n",
            "1/1 [==============================] - 0s 337ms/step\n",
            "1/1 [==============================] - 0s 319ms/step\n"
          ]
        },
        {
          "output_type": "stream",
          "name": "stderr",
          "text": [
            "\n",
            "Batchs:  54%|█████▍    | 67/123 [17:45<14:12, 15.22s/it]\u001b[A"
          ]
        },
        {
          "output_type": "stream",
          "name": "stdout",
          "text": [
            ">67, dA[0.501 ,0.342 ] dB[1.458 ,2.178] g[12.916 ,10.482]\n",
            "1/1 [==============================] - 0s 326ms/step\n",
            "1/1 [==============================] - 0s 315ms/step\n"
          ]
        },
        {
          "output_type": "stream",
          "name": "stderr",
          "text": [
            "\n",
            "Batchs:  55%|█████▌    | 68/123 [17:58<13:09, 14.35s/it]\u001b[A"
          ]
        },
        {
          "output_type": "stream",
          "name": "stdout",
          "text": [
            ">68, dA[0.221 ,0.307 ] dB[0.568 ,1.917] g[13.077 ,12.712]\n",
            "1/1 [==============================] - 0s 335ms/step\n",
            "1/1 [==============================] - 0s 318ms/step\n"
          ]
        },
        {
          "output_type": "stream",
          "name": "stderr",
          "text": [
            "\n",
            "Batchs:  56%|█████▌    | 69/123 [18:15<13:43, 15.25s/it]\u001b[A"
          ]
        },
        {
          "output_type": "stream",
          "name": "stdout",
          "text": [
            ">69, dA[0.856 ,0.282 ] dB[0.547 ,0.808] g[15.018 ,14.258]\n",
            "1/1 [==============================] - 0s 324ms/step\n",
            "1/1 [==============================] - 0s 341ms/step\n"
          ]
        },
        {
          "output_type": "stream",
          "name": "stderr",
          "text": [
            "\n",
            "Batchs:  57%|█████▋    | 70/123 [18:28<12:44, 14.43s/it]\u001b[A"
          ]
        },
        {
          "output_type": "stream",
          "name": "stdout",
          "text": [
            ">70, dA[0.259 ,1.542 ] dB[1.055 ,1.341] g[8.755 ,9.262]\n",
            "1/1 [==============================] - 0s 328ms/step\n",
            "1/1 [==============================] - 0s 332ms/step\n"
          ]
        },
        {
          "output_type": "stream",
          "name": "stderr",
          "text": [
            "\n",
            "Batchs:  58%|█████▊    | 71/123 [18:40<12:01, 13.88s/it]\u001b[A"
          ]
        },
        {
          "output_type": "stream",
          "name": "stdout",
          "text": [
            ">71, dA[0.121 ,0.171 ] dB[0.246 ,0.729] g[10.887 ,11.405]\n",
            "1/1 [==============================] - 0s 325ms/step\n",
            "1/1 [==============================] - 0s 345ms/step\n"
          ]
        },
        {
          "output_type": "stream",
          "name": "stderr",
          "text": [
            "\n",
            "Batchs:  59%|█████▊    | 72/123 [18:54<11:39, 13.71s/it]\u001b[A"
          ]
        },
        {
          "output_type": "stream",
          "name": "stdout",
          "text": [
            ">72, dA[0.187 ,0.422 ] dB[0.416 ,0.940] g[12.852 ,12.543]\n",
            "1/1 [==============================] - 1s 596ms/step\n",
            "1/1 [==============================] - 1s 564ms/step\n"
          ]
        },
        {
          "output_type": "stream",
          "name": "stderr",
          "text": [
            "\n",
            "Batchs:  59%|█████▉    | 73/123 [19:07<11:23, 13.66s/it]\u001b[A"
          ]
        },
        {
          "output_type": "stream",
          "name": "stdout",
          "text": [
            ">73, dA[0.207 ,0.215 ] dB[0.185 ,1.441] g[12.217 ,12.131]\n",
            "1/1 [==============================] - 1s 607ms/step\n",
            "1/1 [==============================] - 0s 324ms/step\n"
          ]
        },
        {
          "output_type": "stream",
          "name": "stderr",
          "text": [
            "\n",
            "Batchs:  60%|██████    | 74/123 [19:19<10:37, 13.02s/it]\u001b[A"
          ]
        },
        {
          "output_type": "stream",
          "name": "stdout",
          "text": [
            ">74, dA[0.593 ,0.166 ] dB[0.510 ,0.511] g[10.487 ,10.097]\n",
            "1/1 [==============================] - 1s 589ms/step\n",
            "1/1 [==============================] - 1s 606ms/step\n"
          ]
        },
        {
          "output_type": "stream",
          "name": "stderr",
          "text": [
            "\n",
            "Batchs:  61%|██████    | 75/123 [19:31<10:13, 12.79s/it]\u001b[A"
          ]
        },
        {
          "output_type": "stream",
          "name": "stdout",
          "text": [
            ">75, dA[0.257 ,1.734 ] dB[0.410 ,0.516] g[10.566 ,11.428]\n",
            "1/1 [==============================] - 0s 344ms/step\n",
            "1/1 [==============================] - 0s 318ms/step\n"
          ]
        },
        {
          "output_type": "stream",
          "name": "stderr",
          "text": [
            "\n",
            "Batchs:  62%|██████▏   | 76/123 [19:44<09:59, 12.74s/it]\u001b[A"
          ]
        },
        {
          "output_type": "stream",
          "name": "stdout",
          "text": [
            ">76, dA[0.367 ,1.281 ] dB[0.098 ,3.009] g[8.968 ,8.453]\n",
            "1/1 [==============================] - 0s 346ms/step\n",
            "1/1 [==============================] - 0s 318ms/step\n"
          ]
        },
        {
          "output_type": "stream",
          "name": "stderr",
          "text": [
            "\n",
            "Batchs:  63%|██████▎   | 77/123 [19:56<09:49, 12.82s/it]\u001b[A"
          ]
        },
        {
          "output_type": "stream",
          "name": "stdout",
          "text": [
            ">77, dA[0.142 ,1.364 ] dB[0.234 ,1.092] g[9.735 ,11.098]\n",
            "1/1 [==============================] - 0s 328ms/step\n",
            "1/1 [==============================] - 0s 321ms/step\n"
          ]
        },
        {
          "output_type": "stream",
          "name": "stderr",
          "text": [
            "\n",
            "Batchs:  63%|██████▎   | 78/123 [20:13<10:28, 13.96s/it]\u001b[A"
          ]
        },
        {
          "output_type": "stream",
          "name": "stdout",
          "text": [
            ">78, dA[0.214 ,0.397 ] dB[0.255 ,0.144] g[10.841 ,11.196]\n",
            "1/1 [==============================] - 0s 329ms/step\n",
            "1/1 [==============================] - 0s 331ms/step\n"
          ]
        },
        {
          "output_type": "stream",
          "name": "stderr",
          "text": [
            "\n",
            "Batchs:  64%|██████▍   | 79/123 [20:31<11:01, 15.04s/it]\u001b[A"
          ]
        },
        {
          "output_type": "stream",
          "name": "stdout",
          "text": [
            ">79, dA[0.493 ,0.474 ] dB[0.137 ,0.226] g[12.639 ,13.427]\n",
            "1/1 [==============================] - 0s 329ms/step\n",
            "1/1 [==============================] - 0s 465ms/step\n"
          ]
        },
        {
          "output_type": "stream",
          "name": "stderr",
          "text": [
            "\n",
            "Batchs:  65%|██████▌   | 80/123 [20:44<10:18, 14.39s/it]\u001b[A"
          ]
        },
        {
          "output_type": "stream",
          "name": "stdout",
          "text": [
            ">80, dA[0.222 ,0.572 ] dB[0.530 ,0.474] g[9.036 ,9.913]\n",
            "1/1 [==============================] - 0s 326ms/step\n",
            "1/1 [==============================] - 0s 337ms/step\n"
          ]
        },
        {
          "output_type": "stream",
          "name": "stderr",
          "text": [
            "\n",
            "Batchs:  66%|██████▌   | 81/123 [20:56<09:45, 13.93s/it]\u001b[A"
          ]
        },
        {
          "output_type": "stream",
          "name": "stdout",
          "text": [
            ">81, dA[0.651 ,0.350 ] dB[0.292 ,0.928] g[12.997 ,11.128]\n",
            "1/1 [==============================] - 0s 327ms/step\n",
            "1/1 [==============================] - 0s 339ms/step\n"
          ]
        },
        {
          "output_type": "stream",
          "name": "stderr",
          "text": [
            "\n",
            "Batchs:  67%|██████▋   | 82/123 [21:11<09:37, 14.08s/it]\u001b[A"
          ]
        },
        {
          "output_type": "stream",
          "name": "stdout",
          "text": [
            ">82, dA[0.407 ,0.340 ] dB[0.345 ,0.429] g[11.942 ,11.188]\n",
            "1/1 [==============================] - 0s 334ms/step\n",
            "1/1 [==============================] - 0s 319ms/step\n"
          ]
        },
        {
          "output_type": "stream",
          "name": "stderr",
          "text": [
            "\n",
            "Batchs:  67%|██████▋   | 83/123 [21:23<09:05, 13.64s/it]\u001b[A"
          ]
        },
        {
          "output_type": "stream",
          "name": "stdout",
          "text": [
            ">83, dA[0.571 ,2.541 ] dB[0.191 ,0.391] g[10.720 ,11.175]\n",
            "1/1 [==============================] - 0s 328ms/step\n",
            "1/1 [==============================] - 0s 320ms/step\n"
          ]
        },
        {
          "output_type": "stream",
          "name": "stderr",
          "text": [
            "\n",
            "Batchs:  68%|██████▊   | 84/123 [21:40<09:22, 14.44s/it]\u001b[A"
          ]
        },
        {
          "output_type": "stream",
          "name": "stdout",
          "text": [
            ">84, dA[0.218 ,0.204 ] dB[0.543 ,0.277] g[10.146 ,9.926]\n",
            "1/1 [==============================] - 0s 342ms/step\n",
            "1/1 [==============================] - 0s 326ms/step\n"
          ]
        },
        {
          "output_type": "stream",
          "name": "stderr",
          "text": [
            "\n",
            "Batchs:  69%|██████▉   | 85/123 [21:56<09:29, 15.00s/it]\u001b[A"
          ]
        },
        {
          "output_type": "stream",
          "name": "stdout",
          "text": [
            ">85, dA[0.451 ,0.273 ] dB[0.261 ,0.202] g[12.739 ,12.438]\n",
            "1/1 [==============================] - 0s 330ms/step\n",
            "1/1 [==============================] - 0s 336ms/step\n"
          ]
        },
        {
          "output_type": "stream",
          "name": "stderr",
          "text": [
            "\n",
            "Batchs:  70%|██████▉   | 86/123 [22:09<08:48, 14.29s/it]\u001b[A"
          ]
        },
        {
          "output_type": "stream",
          "name": "stdout",
          "text": [
            ">86, dA[0.141 ,0.417 ] dB[0.084 ,0.322] g[11.748 ,13.336]\n",
            "1/1 [==============================] - 0s 326ms/step\n",
            "1/1 [==============================] - 0s 337ms/step\n"
          ]
        },
        {
          "output_type": "stream",
          "name": "stderr",
          "text": [
            "\n",
            "Batchs:  71%|███████   | 87/123 [22:25<08:56, 14.90s/it]\u001b[A"
          ]
        },
        {
          "output_type": "stream",
          "name": "stdout",
          "text": [
            ">87, dA[0.344 ,0.382 ] dB[0.204 ,0.206] g[8.783 ,9.422]\n",
            "1/1 [==============================] - 0s 322ms/step\n",
            "1/1 [==============================] - 0s 334ms/step\n"
          ]
        },
        {
          "output_type": "stream",
          "name": "stderr",
          "text": [
            "\n",
            "Batchs:  72%|███████▏  | 88/123 [22:38<08:18, 14.25s/it]\u001b[A"
          ]
        },
        {
          "output_type": "stream",
          "name": "stdout",
          "text": [
            ">88, dA[0.115 ,0.208 ] dB[0.252 ,0.138] g[13.976 ,12.733]\n",
            "1/1 [==============================] - 0s 327ms/step\n",
            "1/1 [==============================] - 0s 330ms/step\n"
          ]
        },
        {
          "output_type": "stream",
          "name": "stderr",
          "text": [
            "\n",
            "Batchs:  72%|███████▏  | 89/123 [22:54<08:29, 14.99s/it]\u001b[A"
          ]
        },
        {
          "output_type": "stream",
          "name": "stdout",
          "text": [
            ">89, dA[0.256 ,0.290 ] dB[0.347 ,0.323] g[10.573 ,12.118]\n",
            "1/1 [==============================] - 0s 333ms/step\n",
            "1/1 [==============================] - 0s 318ms/step\n"
          ]
        },
        {
          "output_type": "stream",
          "name": "stderr",
          "text": [
            "\n",
            "Batchs:  73%|███████▎  | 90/123 [23:11<08:28, 15.42s/it]\u001b[A"
          ]
        },
        {
          "output_type": "stream",
          "name": "stdout",
          "text": [
            ">90, dA[0.452 ,0.399 ] dB[0.219 ,0.425] g[10.623 ,11.517]\n",
            "1/1 [==============================] - 0s 339ms/step\n",
            "1/1 [==============================] - 0s 320ms/step\n"
          ]
        },
        {
          "output_type": "stream",
          "name": "stderr",
          "text": [
            "\n",
            "Batchs:  74%|███████▍  | 91/123 [23:23<07:45, 14.54s/it]\u001b[A"
          ]
        },
        {
          "output_type": "stream",
          "name": "stdout",
          "text": [
            ">91, dA[0.050 ,0.377 ] dB[0.184 ,0.204] g[8.781 ,9.554]\n",
            "1/1 [==============================] - 0s 336ms/step\n",
            "1/1 [==============================] - 0s 316ms/step\n"
          ]
        },
        {
          "output_type": "stream",
          "name": "stderr",
          "text": [
            "\n",
            "Batchs:  75%|███████▍  | 92/123 [23:40<07:49, 15.13s/it]\u001b[A"
          ]
        },
        {
          "output_type": "stream",
          "name": "stdout",
          "text": [
            ">92, dA[0.218 ,0.251 ] dB[0.118 ,0.613] g[10.391 ,11.537]\n",
            "1/1 [==============================] - 0s 342ms/step\n",
            "1/1 [==============================] - 0s 321ms/step\n"
          ]
        },
        {
          "output_type": "stream",
          "name": "stderr",
          "text": [
            "\n",
            "Batchs:  76%|███████▌  | 93/123 [23:57<07:52, 15.75s/it]\u001b[A"
          ]
        },
        {
          "output_type": "stream",
          "name": "stdout",
          "text": [
            ">93, dA[0.136 ,0.258 ] dB[0.120 ,0.610] g[9.816 ,9.726]\n",
            "1/1 [==============================] - 0s 321ms/step\n",
            "1/1 [==============================] - 0s 323ms/step\n"
          ]
        },
        {
          "output_type": "stream",
          "name": "stderr",
          "text": [
            "\n",
            "Batchs:  76%|███████▋  | 94/123 [24:10<07:08, 14.79s/it]\u001b[A"
          ]
        },
        {
          "output_type": "stream",
          "name": "stdout",
          "text": [
            ">94, dA[0.173 ,0.083 ] dB[0.135 ,0.130] g[8.866 ,9.637]\n",
            "1/1 [==============================] - 0s 328ms/step\n",
            "1/1 [==============================] - 0s 320ms/step\n"
          ]
        },
        {
          "output_type": "stream",
          "name": "stderr",
          "text": [
            "\n",
            "Batchs:  77%|███████▋  | 95/123 [24:27<07:16, 15.58s/it]\u001b[A"
          ]
        },
        {
          "output_type": "stream",
          "name": "stdout",
          "text": [
            ">95, dA[0.602 ,0.234 ] dB[0.115 ,0.199] g[9.867 ,10.201]\n",
            "1/1 [==============================] - 0s 342ms/step\n",
            "1/1 [==============================] - 0s 323ms/step\n"
          ]
        },
        {
          "output_type": "stream",
          "name": "stderr",
          "text": [
            "\n",
            "Batchs:  78%|███████▊  | 96/123 [24:45<07:21, 16.34s/it]\u001b[A"
          ]
        },
        {
          "output_type": "stream",
          "name": "stdout",
          "text": [
            ">96, dA[0.326 ,0.333 ] dB[0.087 ,0.199] g[11.007 ,11.025]\n",
            "1/1 [==============================] - 0s 332ms/step\n",
            "1/1 [==============================] - 0s 335ms/step\n"
          ]
        },
        {
          "output_type": "stream",
          "name": "stderr",
          "text": [
            "\n",
            "Batchs:  79%|███████▉  | 97/123 [24:56<06:24, 14.80s/it]\u001b[A"
          ]
        },
        {
          "output_type": "stream",
          "name": "stdout",
          "text": [
            ">97, dA[0.551 ,0.278 ] dB[0.178 ,0.303] g[8.389 ,9.229]\n",
            "1/1 [==============================] - 1s 590ms/step\n",
            "1/1 [==============================] - 1s 607ms/step\n"
          ]
        },
        {
          "output_type": "stream",
          "name": "stderr",
          "text": [
            "\n",
            "Batchs:  80%|███████▉  | 98/123 [25:09<05:52, 14.09s/it]\u001b[A"
          ]
        },
        {
          "output_type": "stream",
          "name": "stdout",
          "text": [
            ">98, dA[0.600 ,0.129 ] dB[0.242 ,0.415] g[11.500 ,10.518]\n",
            "1/1 [==============================] - 0s 337ms/step\n",
            "1/1 [==============================] - 0s 321ms/step\n"
          ]
        },
        {
          "output_type": "stream",
          "name": "stderr",
          "text": [
            "\n",
            "Batchs:  80%|████████  | 99/123 [25:27<06:07, 15.31s/it]\u001b[A"
          ]
        },
        {
          "output_type": "stream",
          "name": "stdout",
          "text": [
            ">99, dA[0.203 ,0.211 ] dB[0.249 ,0.053] g[9.777 ,10.618]\n",
            "1/1 [==============================] - 0s 425ms/step\n",
            "1/1 [==============================] - 0s 330ms/step\n"
          ]
        },
        {
          "output_type": "stream",
          "name": "stderr",
          "text": [
            "\n",
            "Batchs:  81%|████████▏ | 100/123 [25:44<06:02, 15.78s/it]\u001b[A"
          ]
        },
        {
          "output_type": "stream",
          "name": "stdout",
          "text": [
            ">100, dA[0.373 ,0.194 ] dB[0.217 ,0.573] g[9.597 ,10.448]\n",
            "1/1 [==============================] - 0s 329ms/step\n",
            "1/1 [==============================] - 0s 331ms/step\n"
          ]
        },
        {
          "output_type": "stream",
          "name": "stderr",
          "text": [
            "\n",
            "Batchs:  82%|████████▏ | 101/123 [26:00<05:50, 15.92s/it]\u001b[A"
          ]
        },
        {
          "output_type": "stream",
          "name": "stdout",
          "text": [
            ">101, dA[0.109 ,0.484 ] dB[0.187 ,0.071] g[13.448 ,11.993]\n",
            "1/1 [==============================] - 0s 320ms/step\n",
            "1/1 [==============================] - 0s 325ms/step\n"
          ]
        },
        {
          "output_type": "stream",
          "name": "stderr",
          "text": [
            "\n",
            "Batchs:  83%|████████▎ | 102/123 [26:17<05:38, 16.14s/it]\u001b[A"
          ]
        },
        {
          "output_type": "stream",
          "name": "stdout",
          "text": [
            ">102, dA[0.282 ,0.149 ] dB[0.203 ,0.110] g[9.052 ,10.516]\n",
            "1/1 [==============================] - 0s 326ms/step\n",
            "1/1 [==============================] - 0s 317ms/step\n"
          ]
        },
        {
          "output_type": "stream",
          "name": "stderr",
          "text": [
            "\n",
            "Batchs:  84%|████████▎ | 103/123 [26:35<05:33, 16.69s/it]\u001b[A"
          ]
        },
        {
          "output_type": "stream",
          "name": "stdout",
          "text": [
            ">103, dA[0.246 ,0.215 ] dB[0.140 ,0.136] g[12.050 ,11.928]\n",
            "1/1 [==============================] - 1s 611ms/step\n",
            "1/1 [==============================] - 1s 609ms/step\n"
          ]
        },
        {
          "output_type": "stream",
          "name": "stderr",
          "text": [
            "\n",
            "Batchs:  85%|████████▍ | 104/123 [26:47<04:54, 15.50s/it]\u001b[A"
          ]
        },
        {
          "output_type": "stream",
          "name": "stdout",
          "text": [
            ">104, dA[0.032 ,0.186 ] dB[0.468 ,0.038] g[10.787 ,10.818]\n",
            "1/1 [==============================] - 0s 327ms/step\n",
            "1/1 [==============================] - 0s 331ms/step\n"
          ]
        },
        {
          "output_type": "stream",
          "name": "stderr",
          "text": [
            "\n",
            "Batchs:  85%|████████▌ | 105/123 [27:00<04:24, 14.69s/it]\u001b[A"
          ]
        },
        {
          "output_type": "stream",
          "name": "stdout",
          "text": [
            ">105, dA[0.146 ,0.229 ] dB[0.107 ,0.232] g[9.564 ,9.364]\n",
            "1/1 [==============================] - 0s 324ms/step\n",
            "1/1 [==============================] - 0s 336ms/step\n"
          ]
        },
        {
          "output_type": "stream",
          "name": "stderr",
          "text": [
            "\n",
            "Batchs:  86%|████████▌ | 106/123 [27:13<03:59, 14.06s/it]\u001b[A"
          ]
        },
        {
          "output_type": "stream",
          "name": "stdout",
          "text": [
            ">106, dA[0.212 ,0.248 ] dB[0.390 ,0.328] g[9.876 ,9.879]\n",
            "1/1 [==============================] - 0s 329ms/step\n",
            "1/1 [==============================] - 0s 338ms/step\n"
          ]
        },
        {
          "output_type": "stream",
          "name": "stderr",
          "text": [
            "\n",
            "Batchs:  87%|████████▋ | 107/123 [27:26<03:39, 13.70s/it]\u001b[A"
          ]
        },
        {
          "output_type": "stream",
          "name": "stdout",
          "text": [
            ">107, dA[0.173 ,0.340 ] dB[0.128 ,2.010] g[8.698 ,8.473]\n",
            "1/1 [==============================] - 0s 342ms/step\n",
            "1/1 [==============================] - 0s 324ms/step\n"
          ]
        },
        {
          "output_type": "stream",
          "name": "stderr",
          "text": [
            "\n",
            "Batchs:  88%|████████▊ | 108/123 [27:42<03:37, 14.50s/it]\u001b[A"
          ]
        },
        {
          "output_type": "stream",
          "name": "stdout",
          "text": [
            ">108, dA[0.291 ,0.380 ] dB[0.323 ,1.444] g[8.825 ,8.594]\n",
            "1/1 [==============================] - 0s 326ms/step\n",
            "1/1 [==============================] - 0s 349ms/step\n"
          ]
        },
        {
          "output_type": "stream",
          "name": "stderr",
          "text": [
            "\n",
            "Batchs:  89%|████████▊ | 109/123 [27:59<03:31, 15.13s/it]\u001b[A"
          ]
        },
        {
          "output_type": "stream",
          "name": "stdout",
          "text": [
            ">109, dA[0.576 ,0.162 ] dB[0.321 ,0.467] g[8.984 ,9.675]\n",
            "1/1 [==============================] - 0s 326ms/step\n",
            "1/1 [==============================] - 0s 331ms/step\n"
          ]
        },
        {
          "output_type": "stream",
          "name": "stderr",
          "text": [
            "\n",
            "Batchs:  89%|████████▉ | 110/123 [28:11<03:06, 14.37s/it]\u001b[A"
          ]
        },
        {
          "output_type": "stream",
          "name": "stdout",
          "text": [
            ">110, dA[0.261 ,0.257 ] dB[0.355 ,0.408] g[7.436 ,7.443]\n",
            "1/1 [==============================] - 0s 329ms/step\n",
            "1/1 [==============================] - 0s 333ms/step\n"
          ]
        },
        {
          "output_type": "stream",
          "name": "stderr",
          "text": [
            "\n",
            "Batchs:  90%|█████████ | 111/123 [28:24<02:47, 14.00s/it]\u001b[A"
          ]
        },
        {
          "output_type": "stream",
          "name": "stdout",
          "text": [
            ">111, dA[0.236 ,0.371 ] dB[0.286 ,0.243] g[10.989 ,9.611]\n",
            "1/1 [==============================] - 0s 329ms/step\n",
            "1/1 [==============================] - 0s 320ms/step\n"
          ]
        },
        {
          "output_type": "stream",
          "name": "stderr",
          "text": [
            "\n",
            "Batchs:  91%|█████████ | 112/123 [28:37<02:29, 13.59s/it]\u001b[A"
          ]
        },
        {
          "output_type": "stream",
          "name": "stdout",
          "text": [
            ">112, dA[0.272 ,0.042 ] dB[0.100 ,0.620] g[9.445 ,9.347]\n",
            "1/1 [==============================] - 0s 328ms/step\n",
            "1/1 [==============================] - 0s 321ms/step\n"
          ]
        },
        {
          "output_type": "stream",
          "name": "stderr",
          "text": [
            "\n",
            "Batchs:  92%|█████████▏| 113/123 [28:53<02:24, 14.41s/it]\u001b[A"
          ]
        },
        {
          "output_type": "stream",
          "name": "stdout",
          "text": [
            ">113, dA[0.482 ,0.275 ] dB[0.146 ,0.309] g[9.630 ,9.443]\n",
            "1/1 [==============================] - 0s 338ms/step\n",
            "1/1 [==============================] - 0s 320ms/step\n"
          ]
        },
        {
          "output_type": "stream",
          "name": "stderr",
          "text": [
            "\n",
            "Batchs:  93%|█████████▎| 114/123 [29:10<02:14, 14.98s/it]\u001b[A"
          ]
        },
        {
          "output_type": "stream",
          "name": "stdout",
          "text": [
            ">114, dA[0.080 ,0.200 ] dB[0.308 ,0.080] g[14.336 ,11.774]\n",
            "1/1 [==============================] - 0s 333ms/step\n",
            "1/1 [==============================] - 0s 332ms/step\n"
          ]
        },
        {
          "output_type": "stream",
          "name": "stderr",
          "text": [
            "\n",
            "Batchs:  93%|█████████▎| 115/123 [29:26<02:04, 15.53s/it]\u001b[A"
          ]
        },
        {
          "output_type": "stream",
          "name": "stdout",
          "text": [
            ">115, dA[0.339 ,0.346 ] dB[0.161 ,0.193] g[13.515 ,12.597]\n",
            "1/1 [==============================] - 0s 331ms/step\n",
            "1/1 [==============================] - 0s 339ms/step\n"
          ]
        },
        {
          "output_type": "stream",
          "name": "stderr",
          "text": [
            "\n",
            "Batchs:  94%|█████████▍| 116/123 [29:44<01:52, 16.10s/it]\u001b[A"
          ]
        },
        {
          "output_type": "stream",
          "name": "stdout",
          "text": [
            ">116, dA[0.239 ,0.135 ] dB[0.026 ,0.275] g[7.678 ,7.706]\n",
            "1/1 [==============================] - 0s 330ms/step\n",
            "1/1 [==============================] - 0s 321ms/step\n"
          ]
        },
        {
          "output_type": "stream",
          "name": "stderr",
          "text": [
            "\n",
            "Batchs:  95%|█████████▌| 117/123 [29:58<01:33, 15.56s/it]\u001b[A"
          ]
        },
        {
          "output_type": "stream",
          "name": "stdout",
          "text": [
            ">117, dA[0.109 ,0.210 ] dB[0.083 ,0.395] g[7.503 ,7.964]\n",
            "1/1 [==============================] - 0s 342ms/step\n",
            "1/1 [==============================] - 0s 321ms/step\n"
          ]
        },
        {
          "output_type": "stream",
          "name": "stderr",
          "text": [
            "\n",
            "Batchs:  96%|█████████▌| 118/123 [30:11<01:13, 14.73s/it]\u001b[A"
          ]
        },
        {
          "output_type": "stream",
          "name": "stdout",
          "text": [
            ">118, dA[0.574 ,0.157 ] dB[0.114 ,0.125] g[9.738 ,10.075]\n",
            "1/1 [==============================] - 0s 344ms/step\n",
            "1/1 [==============================] - 0s 322ms/step\n"
          ]
        },
        {
          "output_type": "stream",
          "name": "stderr",
          "text": [
            "\n",
            "Batchs:  97%|█████████▋| 119/123 [30:29<01:02, 15.69s/it]\u001b[A"
          ]
        },
        {
          "output_type": "stream",
          "name": "stdout",
          "text": [
            ">119, dA[0.165 ,0.195 ] dB[0.200 ,0.209] g[11.564 ,12.522]\n",
            "1/1 [==============================] - 0s 328ms/step\n",
            "1/1 [==============================] - 0s 325ms/step\n"
          ]
        },
        {
          "output_type": "stream",
          "name": "stderr",
          "text": [
            "\n",
            "Batchs:  98%|█████████▊| 120/123 [30:42<00:44, 14.77s/it]\u001b[A"
          ]
        },
        {
          "output_type": "stream",
          "name": "stdout",
          "text": [
            ">120, dA[0.400 ,0.171 ] dB[0.054 ,0.228] g[10.580 ,10.123]\n",
            "1/1 [==============================] - 0s 327ms/step\n",
            "1/1 [==============================] - 0s 325ms/step\n"
          ]
        },
        {
          "output_type": "stream",
          "name": "stderr",
          "text": [
            "\n",
            "Batchs:  98%|█████████▊| 121/123 [30:54<00:28, 14.11s/it]\u001b[A"
          ]
        },
        {
          "output_type": "stream",
          "name": "stdout",
          "text": [
            ">121, dA[0.273 ,0.121 ] dB[0.303 ,0.241] g[9.159 ,10.257]\n",
            "1/1 [==============================] - 0s 326ms/step\n",
            "1/1 [==============================] - 0s 320ms/step\n"
          ]
        },
        {
          "output_type": "stream",
          "name": "stderr",
          "text": [
            "\n",
            "Batchs:  99%|█████████▉| 122/123 [31:07<00:13, 13.66s/it]\u001b[A"
          ]
        },
        {
          "output_type": "stream",
          "name": "stdout",
          "text": [
            ">122, dA[0.332 ,0.923 ] dB[0.298 ,0.252] g[9.411 ,9.970]\n",
            "1/1 [==============================] - 0s 325ms/step\n",
            "1/1 [==============================] - 0s 317ms/step\n"
          ]
        },
        {
          "output_type": "stream",
          "name": "stderr",
          "text": [
            "\n",
            "Batchs: 100%|██████████| 123/123 [31:23<00:00, 15.31s/it]"
          ]
        },
        {
          "output_type": "stream",
          "name": "stdout",
          "text": [
            ">123, dA[0.318 ,0.368 ] dB[0.445 ,0.170] g[9.522 ,10.224]\n"
          ]
        },
        {
          "output_type": "stream",
          "name": "stderr",
          "text": [
            "\n"
          ]
        },
        {
          "output_type": "stream",
          "name": "stdout",
          "text": [
            "1/1 [==============================] - 0s 339ms/step\n",
            "1/1 [==============================] - 0s 330ms/step\n"
          ]
        },
        {
          "output_type": "stream",
          "name": "stderr",
          "text": [
            "WARNING:matplotlib.image:Clipping input data to the valid range for imshow with RGB data ([0..1] for floats or [0..255] for integers).\n",
            "WARNING:matplotlib.image:Clipping input data to the valid range for imshow with RGB data ([0..1] for floats or [0..255] for integers).\n"
          ]
        },
        {
          "output_type": "display_data",
          "data": {
            "text/plain": [
              "<Figure size 1000x800 with 4 Axes>"
            ],
            "image/png": "[encoded data removed]"
          },
          "metadata": {}
        },
        {
          "output_type": "stream",
          "name": "stderr",
          "text": [
            "Epochs: 100%|██████████| 1/1 [31:24<00:00, 1884.70s/it]\n"
          ]
        }
      ],
      "source": [
        "#load image data\n",
        "dataset = load_real_samples ('/content/celeb.npz')\n",
        "\n",
        "print ('Loaded',dataset[0].shape,dataset[1].shape)\n",
        "#define input shape based on the loaded dataset\n",
        "image_shape = dataset[0].shape[1:]\n",
        "#generator:A->B\n",
        "g_model_AtoB = define_generator(image_shape)\n",
        "#generator:B->A\n",
        "g_model_BtoA = define_generator(image_shape)\n",
        "#discriminator A-[real/fake]\n",
        "d_model_A = define_discriminator(image_shape)\n",
        "#discriminator B-[real/fake]\n",
        "d_model_B = define_discriminator(image_shape)\n",
        "#composite : A->B ->[real/fake ,A ]\n",
        "c_model_AtoB = define_composite_model(g_model_AtoB, d_model_B,g_model_BtoA,image_shape)\n",
        "#composite : B->A ->[real/fake ,B ]\n",
        "c_model_BtoA = define_composite_model(g_model_BtoA, d_model_A,g_model_AtoB,image_shape)\n",
        "train(dataset,d_model_A,d_model_B, g_model_AtoB,g_model_BtoA,c_model_AtoB, c_model_BtoA , epochs=1, chunk=5)"
      ]
    }
  ],
  "metadata": {
    "kernelspec": {
      "display_name": "Python 3 (ipykernel)",
      "language": "python",
      "name": "python3"
    },
    "language_info": {
      "codemirror_mode": {
        "name": "ipython",
        "version": 3
      },
      "file_extension": ".py",
      "mimetype": "text/x-python",
      "name": "python",
      "nbconvert_exporter": "python",
      "pygments_lexer": "ipython3",
      "version": "3.11.5"
    },
    "colab": {
      "provenance": []
    }
  },
  "nbformat": 4,
  "nbformat_minor": 0
}